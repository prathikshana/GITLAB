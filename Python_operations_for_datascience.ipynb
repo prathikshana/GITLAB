{
 "cells": [
  {
   "cell_type": "markdown",
   "id": "b3e9284f",
   "metadata": {},
   "source": [
    "# Importing Necessary Libraries"
   ]
  },
  {
   "cell_type": "code",
   "execution_count": 55,
   "id": "034fc0d9",
   "metadata": {},
   "outputs": [],
   "source": [
    "import seaborn as sns\n",
    "import matplotlib.pyplot as plt\n",
    "import random\n",
    "import pandas as pd\n",
    "import numpy as np"
   ]
  },
  {
   "cell_type": "code",
   "execution_count": 56,
   "id": "633db9e6",
   "metadata": {},
   "outputs": [],
   "source": [
    " #Q11 "
   ]
  },
  {
   "cell_type": "markdown",
   "id": "56073bf4",
   "metadata": {},
   "source": [
    "# 1. Download and Validate Datatypes:"
   ]
  },
  {
   "cell_type": "code",
   "execution_count": 57,
   "id": "e3544a79",
   "metadata": {},
   "outputs": [
    {
     "data": {
      "text/plain": [
       "[['anagrams',\n",
       "  'anscombe',\n",
       "  'attention',\n",
       "  'brain_networks',\n",
       "  'car_crashes',\n",
       "  'diamonds',\n",
       "  'dots',\n",
       "  'dowjones',\n",
       "  'exercise',\n",
       "  'flights',\n",
       "  'fmri',\n",
       "  'geyser',\n",
       "  'glue',\n",
       "  'healthexp',\n",
       "  'iris',\n",
       "  'mpg',\n",
       "  'penguins',\n",
       "  'planets',\n",
       "  'seaice',\n",
       "  'taxis',\n",
       "  'tips',\n",
       "  'titanic',\n",
       "  'anagrams',\n",
       "  'anagrams',\n",
       "  'anscombe',\n",
       "  'anscombe',\n",
       "  'attention',\n",
       "  'attention',\n",
       "  'brain_networks',\n",
       "  'brain_networks',\n",
       "  'car_crashes',\n",
       "  'car_crashes',\n",
       "  'diamonds',\n",
       "  'diamonds',\n",
       "  'dots',\n",
       "  'dots',\n",
       "  'dowjones',\n",
       "  'dowjones',\n",
       "  'exercise',\n",
       "  'exercise',\n",
       "  'flights',\n",
       "  'flights',\n",
       "  'fmri',\n",
       "  'fmri',\n",
       "  'geyser',\n",
       "  'geyser',\n",
       "  'glue',\n",
       "  'glue',\n",
       "  'healthexp',\n",
       "  'healthexp',\n",
       "  'iris',\n",
       "  'iris',\n",
       "  'mpg',\n",
       "  'mpg',\n",
       "  'penguins',\n",
       "  'penguins',\n",
       "  'planets',\n",
       "  'planets',\n",
       "  'seaice',\n",
       "  'seaice',\n",
       "  'taxis',\n",
       "  'taxis',\n",
       "  'tips',\n",
       "  'tips',\n",
       "  'titanic',\n",
       "  'titanic',\n",
       "  'anagrams',\n",
       "  'anscombe',\n",
       "  'attention',\n",
       "  'brain_networks',\n",
       "  'car_crashes',\n",
       "  'diamonds',\n",
       "  'dots',\n",
       "  'dowjones',\n",
       "  'exercise',\n",
       "  'flights',\n",
       "  'fmri',\n",
       "  'geyser',\n",
       "  'glue',\n",
       "  'healthexp',\n",
       "  'iris',\n",
       "  'mpg',\n",
       "  'penguins',\n",
       "  'planets',\n",
       "  'seaice',\n",
       "  'taxis',\n",
       "  'tips',\n",
       "  'titanic']]"
      ]
     },
     "execution_count": 57,
     "metadata": {},
     "output_type": "execute_result"
    }
   ],
   "source": [
    "import seaborn as sns\n",
    "[sns.get_dataset_names()]\n"
   ]
  },
  {
   "cell_type": "markdown",
   "id": "2599887e",
   "metadata": {},
   "source": [
    "Use \".get_dataset_names()\" to display the list of datasets available in seaborn library."
   ]
  },
  {
   "cell_type": "code",
   "execution_count": 58,
   "id": "89a1517f",
   "metadata": {},
   "outputs": [
    {
     "data": {
      "text/html": [
       "<div>\n",
       "<style scoped>\n",
       "    .dataframe tbody tr th:only-of-type {\n",
       "        vertical-align: middle;\n",
       "    }\n",
       "\n",
       "    .dataframe tbody tr th {\n",
       "        vertical-align: top;\n",
       "    }\n",
       "\n",
       "    .dataframe thead th {\n",
       "        text-align: right;\n",
       "    }\n",
       "</style>\n",
       "<table border=\"1\" class=\"dataframe\">\n",
       "  <thead>\n",
       "    <tr style=\"text-align: right;\">\n",
       "      <th></th>\n",
       "      <th>pickup</th>\n",
       "      <th>dropoff</th>\n",
       "      <th>passengers</th>\n",
       "      <th>distance</th>\n",
       "      <th>fare</th>\n",
       "      <th>tip</th>\n",
       "      <th>tolls</th>\n",
       "      <th>total</th>\n",
       "      <th>color</th>\n",
       "      <th>payment</th>\n",
       "      <th>pickup_zone</th>\n",
       "      <th>dropoff_zone</th>\n",
       "      <th>pickup_borough</th>\n",
       "      <th>dropoff_borough</th>\n",
       "    </tr>\n",
       "  </thead>\n",
       "  <tbody>\n",
       "    <tr>\n",
       "      <th>0</th>\n",
       "      <td>2019-03-23 20:21:09</td>\n",
       "      <td>2019-03-23 20:27:24</td>\n",
       "      <td>1</td>\n",
       "      <td>1.60</td>\n",
       "      <td>7.0</td>\n",
       "      <td>2.15</td>\n",
       "      <td>0.0</td>\n",
       "      <td>12.95</td>\n",
       "      <td>yellow</td>\n",
       "      <td>credit card</td>\n",
       "      <td>Lenox Hill West</td>\n",
       "      <td>UN/Turtle Bay South</td>\n",
       "      <td>Manhattan</td>\n",
       "      <td>Manhattan</td>\n",
       "    </tr>\n",
       "    <tr>\n",
       "      <th>1</th>\n",
       "      <td>2019-03-04 16:11:55</td>\n",
       "      <td>2019-03-04 16:19:00</td>\n",
       "      <td>1</td>\n",
       "      <td>0.79</td>\n",
       "      <td>5.0</td>\n",
       "      <td>0.00</td>\n",
       "      <td>0.0</td>\n",
       "      <td>9.30</td>\n",
       "      <td>yellow</td>\n",
       "      <td>cash</td>\n",
       "      <td>Upper West Side South</td>\n",
       "      <td>Upper West Side South</td>\n",
       "      <td>Manhattan</td>\n",
       "      <td>Manhattan</td>\n",
       "    </tr>\n",
       "    <tr>\n",
       "      <th>2</th>\n",
       "      <td>2019-03-27 17:53:01</td>\n",
       "      <td>2019-03-27 18:00:25</td>\n",
       "      <td>1</td>\n",
       "      <td>1.37</td>\n",
       "      <td>7.5</td>\n",
       "      <td>2.36</td>\n",
       "      <td>0.0</td>\n",
       "      <td>14.16</td>\n",
       "      <td>yellow</td>\n",
       "      <td>credit card</td>\n",
       "      <td>Alphabet City</td>\n",
       "      <td>West Village</td>\n",
       "      <td>Manhattan</td>\n",
       "      <td>Manhattan</td>\n",
       "    </tr>\n",
       "    <tr>\n",
       "      <th>3</th>\n",
       "      <td>2019-03-10 01:23:59</td>\n",
       "      <td>2019-03-10 01:49:51</td>\n",
       "      <td>1</td>\n",
       "      <td>7.70</td>\n",
       "      <td>27.0</td>\n",
       "      <td>6.15</td>\n",
       "      <td>0.0</td>\n",
       "      <td>36.95</td>\n",
       "      <td>yellow</td>\n",
       "      <td>credit card</td>\n",
       "      <td>Hudson Sq</td>\n",
       "      <td>Yorkville West</td>\n",
       "      <td>Manhattan</td>\n",
       "      <td>Manhattan</td>\n",
       "    </tr>\n",
       "    <tr>\n",
       "      <th>4</th>\n",
       "      <td>2019-03-30 13:27:42</td>\n",
       "      <td>2019-03-30 13:37:14</td>\n",
       "      <td>3</td>\n",
       "      <td>2.16</td>\n",
       "      <td>9.0</td>\n",
       "      <td>1.10</td>\n",
       "      <td>0.0</td>\n",
       "      <td>13.40</td>\n",
       "      <td>yellow</td>\n",
       "      <td>credit card</td>\n",
       "      <td>Midtown East</td>\n",
       "      <td>Yorkville West</td>\n",
       "      <td>Manhattan</td>\n",
       "      <td>Manhattan</td>\n",
       "    </tr>\n",
       "    <tr>\n",
       "      <th>5</th>\n",
       "      <td>2019-03-11 10:37:23</td>\n",
       "      <td>2019-03-11 10:47:31</td>\n",
       "      <td>1</td>\n",
       "      <td>0.49</td>\n",
       "      <td>7.5</td>\n",
       "      <td>2.16</td>\n",
       "      <td>0.0</td>\n",
       "      <td>12.96</td>\n",
       "      <td>yellow</td>\n",
       "      <td>credit card</td>\n",
       "      <td>Times Sq/Theatre District</td>\n",
       "      <td>Midtown East</td>\n",
       "      <td>Manhattan</td>\n",
       "      <td>Manhattan</td>\n",
       "    </tr>\n",
       "    <tr>\n",
       "      <th>6</th>\n",
       "      <td>2019-03-26 21:07:31</td>\n",
       "      <td>2019-03-26 21:17:29</td>\n",
       "      <td>1</td>\n",
       "      <td>3.65</td>\n",
       "      <td>13.0</td>\n",
       "      <td>2.00</td>\n",
       "      <td>0.0</td>\n",
       "      <td>18.80</td>\n",
       "      <td>yellow</td>\n",
       "      <td>credit card</td>\n",
       "      <td>Battery Park City</td>\n",
       "      <td>Two Bridges/Seward Park</td>\n",
       "      <td>Manhattan</td>\n",
       "      <td>Manhattan</td>\n",
       "    </tr>\n",
       "  </tbody>\n",
       "</table>\n",
       "</div>"
      ],
      "text/plain": [
       "               pickup             dropoff  passengers  distance  fare   tip  \\\n",
       "0 2019-03-23 20:21:09 2019-03-23 20:27:24           1      1.60   7.0  2.15   \n",
       "1 2019-03-04 16:11:55 2019-03-04 16:19:00           1      0.79   5.0  0.00   \n",
       "2 2019-03-27 17:53:01 2019-03-27 18:00:25           1      1.37   7.5  2.36   \n",
       "3 2019-03-10 01:23:59 2019-03-10 01:49:51           1      7.70  27.0  6.15   \n",
       "4 2019-03-30 13:27:42 2019-03-30 13:37:14           3      2.16   9.0  1.10   \n",
       "5 2019-03-11 10:37:23 2019-03-11 10:47:31           1      0.49   7.5  2.16   \n",
       "6 2019-03-26 21:07:31 2019-03-26 21:17:29           1      3.65  13.0  2.00   \n",
       "\n",
       "   tolls  total   color      payment                pickup_zone  \\\n",
       "0    0.0  12.95  yellow  credit card            Lenox Hill West   \n",
       "1    0.0   9.30  yellow         cash      Upper West Side South   \n",
       "2    0.0  14.16  yellow  credit card              Alphabet City   \n",
       "3    0.0  36.95  yellow  credit card                  Hudson Sq   \n",
       "4    0.0  13.40  yellow  credit card               Midtown East   \n",
       "5    0.0  12.96  yellow  credit card  Times Sq/Theatre District   \n",
       "6    0.0  18.80  yellow  credit card          Battery Park City   \n",
       "\n",
       "              dropoff_zone pickup_borough dropoff_borough  \n",
       "0      UN/Turtle Bay South      Manhattan       Manhattan  \n",
       "1    Upper West Side South      Manhattan       Manhattan  \n",
       "2             West Village      Manhattan       Manhattan  \n",
       "3           Yorkville West      Manhattan       Manhattan  \n",
       "4           Yorkville West      Manhattan       Manhattan  \n",
       "5             Midtown East      Manhattan       Manhattan  \n",
       "6  Two Bridges/Seward Park      Manhattan       Manhattan  "
      ]
     },
     "execution_count": 58,
     "metadata": {},
     "output_type": "execute_result"
    }
   ],
   "source": [
    "taxis = sns.load_dataset(\"taxis\")\n",
    "taxis.head(7) "
   ]
  },
  {
   "cell_type": "markdown",
   "id": "2c8356da",
   "metadata": {},
   "source": [
    "Using \"load_dataset()\" , the taxis dataset is imported from seaborn library and head() used to preview the records"
   ]
  },
  {
   "cell_type": "code",
   "execution_count": 59,
   "id": "30ca2ec6",
   "metadata": {},
   "outputs": [
    {
     "name": "stdout",
     "output_type": "stream",
     "text": [
      "<class 'pandas.core.frame.DataFrame'>\n",
      "RangeIndex: 6433 entries, 0 to 6432\n",
      "Data columns (total 14 columns):\n",
      " #   Column           Non-Null Count  Dtype         \n",
      "---  ------           --------------  -----         \n",
      " 0   pickup           6433 non-null   datetime64[ns]\n",
      " 1   dropoff          6433 non-null   datetime64[ns]\n",
      " 2   passengers       6433 non-null   int64         \n",
      " 3   distance         6433 non-null   float64       \n",
      " 4   fare             6433 non-null   float64       \n",
      " 5   tip              6433 non-null   float64       \n",
      " 6   tolls            6433 non-null   float64       \n",
      " 7   total            6433 non-null   float64       \n",
      " 8   color            6433 non-null   object        \n",
      " 9   payment          6389 non-null   object        \n",
      " 10  pickup_zone      6407 non-null   object        \n",
      " 11  dropoff_zone     6388 non-null   object        \n",
      " 12  pickup_borough   6407 non-null   object        \n",
      " 13  dropoff_borough  6388 non-null   object        \n",
      "dtypes: datetime64[ns](2), float64(5), int64(1), object(6)\n",
      "memory usage: 703.7+ KB\n"
     ]
    }
   ],
   "source": [
    "taxis.info()"
   ]
  },
  {
   "cell_type": "markdown",
   "id": "de436ad4",
   "metadata": {},
   "source": [
    "\"info()\" gives a brief details about columns and their count and datatype. The \"Pickup\" and \"DropOff\" columns are datetime."
   ]
  },
  {
   "cell_type": "code",
   "execution_count": 60,
   "id": "c123c28f",
   "metadata": {},
   "outputs": [
    {
     "name": "stdout",
     "output_type": "stream",
     "text": [
      "pickup datetime64[ns] dropoff datetime64[ns]\n"
     ]
    }
   ],
   "source": [
    "\n",
    "print('pickup',taxis.pickup.dtype,'dropoff',taxis.dropoff.dtype)"
   ]
  },
  {
   "cell_type": "markdown",
   "id": "658f81d9",
   "metadata": {},
   "source": [
    "dataset.column.dtype is used to check the data type for a specific column"
   ]
  },
  {
   "cell_type": "markdown",
   "id": "94c7651c",
   "metadata": {},
   "source": [
    "# 2. Calculate Trip Duration:"
   ]
  },
  {
   "cell_type": "code",
   "execution_count": 61,
   "id": "a31c691a",
   "metadata": {},
   "outputs": [
    {
     "data": {
      "text/html": [
       "<div>\n",
       "<style scoped>\n",
       "    .dataframe tbody tr th:only-of-type {\n",
       "        vertical-align: middle;\n",
       "    }\n",
       "\n",
       "    .dataframe tbody tr th {\n",
       "        vertical-align: top;\n",
       "    }\n",
       "\n",
       "    .dataframe thead th {\n",
       "        text-align: right;\n",
       "    }\n",
       "</style>\n",
       "<table border=\"1\" class=\"dataframe\">\n",
       "  <thead>\n",
       "    <tr style=\"text-align: right;\">\n",
       "      <th></th>\n",
       "      <th>pickup</th>\n",
       "      <th>dropoff</th>\n",
       "      <th>RideDuration_mins</th>\n",
       "      <th>RideDuration_hrs</th>\n",
       "    </tr>\n",
       "  </thead>\n",
       "  <tbody>\n",
       "    <tr>\n",
       "      <th>0</th>\n",
       "      <td>2019-03-23 20:21:09</td>\n",
       "      <td>2019-03-23 20:27:24</td>\n",
       "      <td>6.250000</td>\n",
       "      <td>0.104167</td>\n",
       "    </tr>\n",
       "    <tr>\n",
       "      <th>1</th>\n",
       "      <td>2019-03-04 16:11:55</td>\n",
       "      <td>2019-03-04 16:19:00</td>\n",
       "      <td>7.083333</td>\n",
       "      <td>0.118056</td>\n",
       "    </tr>\n",
       "    <tr>\n",
       "      <th>2</th>\n",
       "      <td>2019-03-27 17:53:01</td>\n",
       "      <td>2019-03-27 18:00:25</td>\n",
       "      <td>7.400000</td>\n",
       "      <td>0.123333</td>\n",
       "    </tr>\n",
       "    <tr>\n",
       "      <th>3</th>\n",
       "      <td>2019-03-10 01:23:59</td>\n",
       "      <td>2019-03-10 01:49:51</td>\n",
       "      <td>25.866667</td>\n",
       "      <td>0.431111</td>\n",
       "    </tr>\n",
       "    <tr>\n",
       "      <th>4</th>\n",
       "      <td>2019-03-30 13:27:42</td>\n",
       "      <td>2019-03-30 13:37:14</td>\n",
       "      <td>9.533333</td>\n",
       "      <td>0.158889</td>\n",
       "    </tr>\n",
       "    <tr>\n",
       "      <th>5</th>\n",
       "      <td>2019-03-11 10:37:23</td>\n",
       "      <td>2019-03-11 10:47:31</td>\n",
       "      <td>10.133333</td>\n",
       "      <td>0.168889</td>\n",
       "    </tr>\n",
       "    <tr>\n",
       "      <th>6</th>\n",
       "      <td>2019-03-26 21:07:31</td>\n",
       "      <td>2019-03-26 21:17:29</td>\n",
       "      <td>9.966667</td>\n",
       "      <td>0.166111</td>\n",
       "    </tr>\n",
       "    <tr>\n",
       "      <th>7</th>\n",
       "      <td>2019-03-22 12:47:13</td>\n",
       "      <td>2019-03-22 12:58:17</td>\n",
       "      <td>11.066667</td>\n",
       "      <td>0.184444</td>\n",
       "    </tr>\n",
       "    <tr>\n",
       "      <th>8</th>\n",
       "      <td>2019-03-23 11:48:50</td>\n",
       "      <td>2019-03-23 12:06:14</td>\n",
       "      <td>17.400000</td>\n",
       "      <td>0.290000</td>\n",
       "    </tr>\n",
       "    <tr>\n",
       "      <th>9</th>\n",
       "      <td>2019-03-08 16:18:37</td>\n",
       "      <td>2019-03-08 16:26:57</td>\n",
       "      <td>8.333333</td>\n",
       "      <td>0.138889</td>\n",
       "    </tr>\n",
       "  </tbody>\n",
       "</table>\n",
       "</div>"
      ],
      "text/plain": [
       "               pickup             dropoff  RideDuration_mins  RideDuration_hrs\n",
       "0 2019-03-23 20:21:09 2019-03-23 20:27:24           6.250000          0.104167\n",
       "1 2019-03-04 16:11:55 2019-03-04 16:19:00           7.083333          0.118056\n",
       "2 2019-03-27 17:53:01 2019-03-27 18:00:25           7.400000          0.123333\n",
       "3 2019-03-10 01:23:59 2019-03-10 01:49:51          25.866667          0.431111\n",
       "4 2019-03-30 13:27:42 2019-03-30 13:37:14           9.533333          0.158889\n",
       "5 2019-03-11 10:37:23 2019-03-11 10:47:31          10.133333          0.168889\n",
       "6 2019-03-26 21:07:31 2019-03-26 21:17:29           9.966667          0.166111\n",
       "7 2019-03-22 12:47:13 2019-03-22 12:58:17          11.066667          0.184444\n",
       "8 2019-03-23 11:48:50 2019-03-23 12:06:14          17.400000          0.290000\n",
       "9 2019-03-08 16:18:37 2019-03-08 16:26:57           8.333333          0.138889"
      ]
     },
     "execution_count": 61,
     "metadata": {},
     "output_type": "execute_result"
    }
   ],
   "source": [
    "# Compute the time it took for each ride using the pickup and dropoff columns.\n",
    "taxis['RideDuration_mins'] = (taxis['dropoff'] - taxis['pickup']).dt.total_seconds() / 60 #mins\n",
    "taxis['RideDuration_hrs'] = (taxis['dropoff'] - taxis['pickup']).dt.total_seconds() / 3600 #hrs\n",
    "taxis[['pickup','dropoff','RideDuration_mins','RideDuration_hrs']].head(10)"
   ]
  },
  {
   "cell_type": "markdown",
   "id": "99e9bf45",
   "metadata": {},
   "source": [
    "    The difference of pickup and drop is calculated by .dt.total_seconds is calculated and then to convert seconds to hrs it is divided by 3600"
   ]
  },
  {
   "cell_type": "markdown",
   "id": "ffa4693b",
   "metadata": {},
   "source": [
    "# 3. Calculate Dollar Metrics:"
   ]
  },
  {
   "cell_type": "code",
   "execution_count": 62,
   "id": "cd0f0787",
   "metadata": {},
   "outputs": [
    {
     "data": {
      "text/html": [
       "<div>\n",
       "<style scoped>\n",
       "    .dataframe tbody tr th:only-of-type {\n",
       "        vertical-align: middle;\n",
       "    }\n",
       "\n",
       "    .dataframe tbody tr th {\n",
       "        vertical-align: top;\n",
       "    }\n",
       "\n",
       "    .dataframe thead th {\n",
       "        text-align: right;\n",
       "    }\n",
       "</style>\n",
       "<table border=\"1\" class=\"dataframe\">\n",
       "  <thead>\n",
       "    <tr style=\"text-align: right;\">\n",
       "      <th></th>\n",
       "      <th>total</th>\n",
       "      <th>RideDuration_hrs</th>\n",
       "      <th>dollar_hr</th>\n",
       "    </tr>\n",
       "  </thead>\n",
       "  <tbody>\n",
       "    <tr>\n",
       "      <th>0</th>\n",
       "      <td>12.95</td>\n",
       "      <td>0.104167</td>\n",
       "      <td>124.320000</td>\n",
       "    </tr>\n",
       "    <tr>\n",
       "      <th>1</th>\n",
       "      <td>9.30</td>\n",
       "      <td>0.118056</td>\n",
       "      <td>78.776471</td>\n",
       "    </tr>\n",
       "    <tr>\n",
       "      <th>2</th>\n",
       "      <td>14.16</td>\n",
       "      <td>0.123333</td>\n",
       "      <td>114.810811</td>\n",
       "    </tr>\n",
       "    <tr>\n",
       "      <th>3</th>\n",
       "      <td>36.95</td>\n",
       "      <td>0.431111</td>\n",
       "      <td>85.708763</td>\n",
       "    </tr>\n",
       "    <tr>\n",
       "      <th>4</th>\n",
       "      <td>13.40</td>\n",
       "      <td>0.158889</td>\n",
       "      <td>84.335664</td>\n",
       "    </tr>\n",
       "    <tr>\n",
       "      <th>...</th>\n",
       "      <td>...</td>\n",
       "      <td>...</td>\n",
       "      <td>...</td>\n",
       "    </tr>\n",
       "    <tr>\n",
       "      <th>6428</th>\n",
       "      <td>6.36</td>\n",
       "      <td>0.059444</td>\n",
       "      <td>106.990654</td>\n",
       "    </tr>\n",
       "    <tr>\n",
       "      <th>6429</th>\n",
       "      <td>58.80</td>\n",
       "      <td>0.939722</td>\n",
       "      <td>62.571682</td>\n",
       "    </tr>\n",
       "    <tr>\n",
       "      <th>6430</th>\n",
       "      <td>17.30</td>\n",
       "      <td>0.318611</td>\n",
       "      <td>54.298169</td>\n",
       "    </tr>\n",
       "    <tr>\n",
       "      <th>6431</th>\n",
       "      <td>6.80</td>\n",
       "      <td>0.084444</td>\n",
       "      <td>80.526316</td>\n",
       "    </tr>\n",
       "    <tr>\n",
       "      <th>6432</th>\n",
       "      <td>20.16</td>\n",
       "      <td>0.277778</td>\n",
       "      <td>72.576000</td>\n",
       "    </tr>\n",
       "  </tbody>\n",
       "</table>\n",
       "<p>6433 rows × 3 columns</p>\n",
       "</div>"
      ],
      "text/plain": [
       "      total  RideDuration_hrs   dollar_hr\n",
       "0     12.95          0.104167  124.320000\n",
       "1      9.30          0.118056   78.776471\n",
       "2     14.16          0.123333  114.810811\n",
       "3     36.95          0.431111   85.708763\n",
       "4     13.40          0.158889   84.335664\n",
       "...     ...               ...         ...\n",
       "6428   6.36          0.059444  106.990654\n",
       "6429  58.80          0.939722   62.571682\n",
       "6430  17.30          0.318611   54.298169\n",
       "6431   6.80          0.084444   80.526316\n",
       "6432  20.16          0.277778   72.576000\n",
       "\n",
       "[6433 rows x 3 columns]"
      ]
     },
     "execution_count": 62,
     "metadata": {},
     "output_type": "execute_result"
    }
   ],
   "source": [
    "# Calculate $ per hour earned for each ride. hint: math\n",
    "taxis['dollar_hr'] = taxis['total']/taxis['RideDuration_hrs']\n",
    "taxis[['total','RideDuration_hrs','dollar_hr']]"
   ]
  },
  {
   "cell_type": "markdown",
   "id": "4930b8f7",
   "metadata": {},
   "source": [
    "The code calculates the earnings per hour for each ride in the taxis dataset by dividing the total fare by the ride duration in hours (RideDuration_hrs), resulting in the hourly earning rate in dollars per ride."
   ]
  },
  {
   "cell_type": "code",
   "execution_count": 63,
   "id": "1d4d2a15",
   "metadata": {},
   "outputs": [
    {
     "data": {
      "text/html": [
       "<div>\n",
       "<style scoped>\n",
       "    .dataframe tbody tr th:only-of-type {\n",
       "        vertical-align: middle;\n",
       "    }\n",
       "\n",
       "    .dataframe tbody tr th {\n",
       "        vertical-align: top;\n",
       "    }\n",
       "\n",
       "    .dataframe thead th {\n",
       "        text-align: right;\n",
       "    }\n",
       "</style>\n",
       "<table border=\"1\" class=\"dataframe\">\n",
       "  <thead>\n",
       "    <tr style=\"text-align: right;\">\n",
       "      <th></th>\n",
       "      <th>total</th>\n",
       "      <th>distance</th>\n",
       "      <th>dollar_km</th>\n",
       "    </tr>\n",
       "  </thead>\n",
       "  <tbody>\n",
       "    <tr>\n",
       "      <th>0</th>\n",
       "      <td>12.95</td>\n",
       "      <td>1.60</td>\n",
       "      <td>8.093750</td>\n",
       "    </tr>\n",
       "    <tr>\n",
       "      <th>1</th>\n",
       "      <td>9.30</td>\n",
       "      <td>0.79</td>\n",
       "      <td>11.772152</td>\n",
       "    </tr>\n",
       "    <tr>\n",
       "      <th>2</th>\n",
       "      <td>14.16</td>\n",
       "      <td>1.37</td>\n",
       "      <td>10.335766</td>\n",
       "    </tr>\n",
       "    <tr>\n",
       "      <th>3</th>\n",
       "      <td>36.95</td>\n",
       "      <td>7.70</td>\n",
       "      <td>4.798701</td>\n",
       "    </tr>\n",
       "    <tr>\n",
       "      <th>4</th>\n",
       "      <td>13.40</td>\n",
       "      <td>2.16</td>\n",
       "      <td>6.203704</td>\n",
       "    </tr>\n",
       "    <tr>\n",
       "      <th>...</th>\n",
       "      <td>...</td>\n",
       "      <td>...</td>\n",
       "      <td>...</td>\n",
       "    </tr>\n",
       "    <tr>\n",
       "      <th>6428</th>\n",
       "      <td>6.36</td>\n",
       "      <td>0.75</td>\n",
       "      <td>8.480000</td>\n",
       "    </tr>\n",
       "    <tr>\n",
       "      <th>6429</th>\n",
       "      <td>58.80</td>\n",
       "      <td>18.74</td>\n",
       "      <td>3.137673</td>\n",
       "    </tr>\n",
       "    <tr>\n",
       "      <th>6430</th>\n",
       "      <td>17.30</td>\n",
       "      <td>4.14</td>\n",
       "      <td>4.178744</td>\n",
       "    </tr>\n",
       "    <tr>\n",
       "      <th>6431</th>\n",
       "      <td>6.80</td>\n",
       "      <td>1.12</td>\n",
       "      <td>6.071429</td>\n",
       "    </tr>\n",
       "    <tr>\n",
       "      <th>6432</th>\n",
       "      <td>20.16</td>\n",
       "      <td>3.85</td>\n",
       "      <td>5.236364</td>\n",
       "    </tr>\n",
       "  </tbody>\n",
       "</table>\n",
       "<p>6433 rows × 3 columns</p>\n",
       "</div>"
      ],
      "text/plain": [
       "      total  distance  dollar_km\n",
       "0     12.95      1.60   8.093750\n",
       "1      9.30      0.79  11.772152\n",
       "2     14.16      1.37  10.335766\n",
       "3     36.95      7.70   4.798701\n",
       "4     13.40      2.16   6.203704\n",
       "...     ...       ...        ...\n",
       "6428   6.36      0.75   8.480000\n",
       "6429  58.80     18.74   3.137673\n",
       "6430  17.30      4.14   4.178744\n",
       "6431   6.80      1.12   6.071429\n",
       "6432  20.16      3.85   5.236364\n",
       "\n",
       "[6433 rows x 3 columns]"
      ]
     },
     "execution_count": 63,
     "metadata": {},
     "output_type": "execute_result"
    }
   ],
   "source": [
    "# Calculate $ per km for each ride. hint: maths\n",
    "taxis['dollar_km'] = taxis['total']/taxis['distance']\n",
    "taxis[['total','distance','dollar_km']]"
   ]
  },
  {
   "cell_type": "markdown",
   "id": "48b757d3",
   "metadata": {},
   "source": [
    "The taxis dataset calculates the dollars earned per kilometer by dividing the total fare for each ride by the distance, resulting in a fare rate in dollars per kilometer. \n",
    "This calculation is used to calculate the total fare per ride."
   ]
  },
  {
   "cell_type": "markdown",
   "id": "69ed3e0d",
   "metadata": {},
   "source": [
    "# 4. Correlations:"
   ]
  },
  {
   "cell_type": "code",
   "execution_count": 64,
   "id": "f15602e3",
   "metadata": {},
   "outputs": [
    {
     "data": {
      "text/plain": [
       "Text(0.5, 1.0, 'Passengers vs $ per Hour')"
      ]
     },
     "execution_count": 64,
     "metadata": {},
     "output_type": "execute_result"
    },
    {
     "data": {
      "image/png": "[encoded data removed]",
      "text/plain": [
       "<Figure size 640x480 with 1 Axes>"
      ]
     },
     "metadata": {},
     "output_type": "display_data"
    }
   ],
   "source": [
    "# 1. Passengers and $ per hour.\n",
    "#scatterplot\n",
    "sns.scatterplot(x='passengers', y='dollar_hr', data=taxis)\n",
    "plt.title('Passengers vs $ per Hour')"
   ]
  },
  {
   "cell_type": "code",
   "execution_count": 65,
   "id": "3f66b7a0",
   "metadata": {},
   "outputs": [
    {
     "data": {
      "text/html": [
       "<div>\n",
       "<style scoped>\n",
       "    .dataframe tbody tr th:only-of-type {\n",
       "        vertical-align: middle;\n",
       "    }\n",
       "\n",
       "    .dataframe tbody tr th {\n",
       "        vertical-align: top;\n",
       "    }\n",
       "\n",
       "    .dataframe thead th {\n",
       "        text-align: right;\n",
       "    }\n",
       "</style>\n",
       "<table border=\"1\" class=\"dataframe\">\n",
       "  <thead>\n",
       "    <tr style=\"text-align: right;\">\n",
       "      <th></th>\n",
       "      <th>passengers</th>\n",
       "      <th>dollar_hr</th>\n",
       "    </tr>\n",
       "  </thead>\n",
       "  <tbody>\n",
       "    <tr>\n",
       "      <th>passengers</th>\n",
       "      <td>1.000000</td>\n",
       "      <td>-0.010626</td>\n",
       "    </tr>\n",
       "    <tr>\n",
       "      <th>dollar_hr</th>\n",
       "      <td>-0.010626</td>\n",
       "      <td>1.000000</td>\n",
       "    </tr>\n",
       "  </tbody>\n",
       "</table>\n",
       "</div>"
      ],
      "text/plain": [
       "            passengers  dollar_hr\n",
       "passengers    1.000000  -0.010626\n",
       "dollar_hr    -0.010626   1.000000"
      ]
     },
     "execution_count": 65,
     "metadata": {},
     "output_type": "execute_result"
    }
   ],
   "source": [
    "#corr\n",
    "corr_hr =  taxis[['passengers', 'dollar_hr']].corr()\n",
    "corr_hr"
   ]
  },
  {
   "cell_type": "code",
   "execution_count": 66,
   "id": "c0ba4780",
   "metadata": {},
   "outputs": [
    {
     "data": {
      "image/png": "[encoded data removed]",
      "text/plain": [
       "<Figure size 640x480 with 1 Axes>"
      ]
     },
     "metadata": {},
     "output_type": "display_data"
    },
    {
     "data": {
      "text/html": [
       "<div>\n",
       "<style scoped>\n",
       "    .dataframe tbody tr th:only-of-type {\n",
       "        vertical-align: middle;\n",
       "    }\n",
       "\n",
       "    .dataframe tbody tr th {\n",
       "        vertical-align: top;\n",
       "    }\n",
       "\n",
       "    .dataframe thead th {\n",
       "        text-align: right;\n",
       "    }\n",
       "</style>\n",
       "<table border=\"1\" class=\"dataframe\">\n",
       "  <thead>\n",
       "    <tr style=\"text-align: right;\">\n",
       "      <th></th>\n",
       "      <th>passengers</th>\n",
       "      <th>dollar_km</th>\n",
       "    </tr>\n",
       "  </thead>\n",
       "  <tbody>\n",
       "    <tr>\n",
       "      <th>passengers</th>\n",
       "      <td>1.000000</td>\n",
       "      <td>-0.012273</td>\n",
       "    </tr>\n",
       "    <tr>\n",
       "      <th>dollar_km</th>\n",
       "      <td>-0.012273</td>\n",
       "      <td>1.000000</td>\n",
       "    </tr>\n",
       "  </tbody>\n",
       "</table>\n",
       "</div>"
      ],
      "text/plain": [
       "            passengers  dollar_km\n",
       "passengers    1.000000  -0.012273\n",
       "dollar_km    -0.012273   1.000000"
      ]
     },
     "execution_count": 66,
     "metadata": {},
     "output_type": "execute_result"
    }
   ],
   "source": [
    "# 2.   passengers vs $ per km\n",
    "#Scatterplot \n",
    "sns.scatterplot(x='passengers', y='dollar_km', data=taxis)\n",
    "plt.title('Passengers vs $ per Kilometer')\n",
    "plt.show()\n",
    "\n",
    "# Correlation calculation\n",
    "corr_km = taxis[['passengers', 'dollar_km']].corr()\n",
    "corr_km\n"
   ]
  },
  {
   "cell_type": "markdown",
   "id": "1cc29534",
   "metadata": {},
   "source": [
    "- Correlation Scatterplot\n",
    "  The correlation values should align with the observed data patterns, with positive correlation indicating an upward trend, and no or weak correlation resulting in random or horizontal distribution.\n",
    "  \n",
    "  \n",
    "- Strong vs Weak theoretical Correlation:\n",
    "  -  Strongest correlation: +1 or -1.\n",
    "    -  +1: Perfect positive linear relationship.\n",
    "    - -1: Perfect negative linear relationship.\n",
    "  - Weakest correlation: 0, indicating no linear relationship.\n",
    "- Rationalization of Passenger Counts\n",
    "  - Positive correlation suggests higher passenger counts increase earnings.\n",
    "  - Lack of correlation suggests flat rate pricing doesn't significantly influence hourly earnings.\n",
    "- Rationalization of Distance Pricing\n",
    "  - Positive correlation suggests higher earnings per kilometer due to additional charges or larger vehicle use.\n",
    "  - Low or zero correlation suggests distance pricing isn't significantly impacted by passenger count, possibly due to a flat per-kilometer rate.\n",
    "  \n",
    "- Correlating Categorical and Continuous Variables\n",
    "  - Use encoding techniques to convert categorical variables into numerical forms.\n",
    "  - Label Encoding assigns a unique integer to each category, transforming color into a numerical variable."
   ]
  },
  {
   "cell_type": "markdown",
   "id": "938d78fa",
   "metadata": {},
   "source": [
    "\n",
    "# 5. Distribution Plots:\n",
    "Plot the distribution of $ per hour and $ per km using two visualizations:\n",
    "Two subplots placed side by side.\n",
    "One subplot overlaying the distributions on each other.\n",
    "Make sure I can see the distributions.\n",
    "Don't make a silly mistake with yaxis here."
   ]
  },
  {
   "cell_type": "code",
   "execution_count": 67,
   "id": "7135a96c",
   "metadata": {},
   "outputs": [
    {
     "data": {
      "text/plain": [
       "Text(0, 0.5, 'Density')"
      ]
     },
     "execution_count": 67,
     "metadata": {},
     "output_type": "execute_result"
    },
    {
     "data": {
      "image/png": "[encoded data removed]",
      "text/plain": [
       "<Figure size 640x480 with 2 Axes>"
      ]
     },
     "metadata": {},
     "output_type": "display_data"
    }
   ],
   "source": [
    "\n",
    "plt.subplot(1, 2, 1)\n",
    "sns.histplot(taxis['dollar_hr'], color='blue', label='$ per Hour',)\n",
    "plt.title('Distribution of $ per Hour')\n",
    "plt.xlabel('$ per Hour')\n",
    "plt.ylabel('Density')\n",
    "\n",
    "\n",
    "plt.subplot(1, 2, 2)\n",
    "sns.histplot(taxis['dollar_km'], color='green', label='$ per KM')\n",
    "plt.title('Distribution of $ per KM')\n",
    "plt.xlabel('$ per KM')\n",
    "plt.ylabel('Density')"
   ]
  },
  {
   "cell_type": "markdown",
   "id": "748e2af0",
   "metadata": {},
   "source": [
    "The code creates two subplots to display the distributions of $ per  Hour and $ per  KM, using sns.histplot to create histograms with color and label settings, ensuring subplots don't overlap and displaying the final plots for insights into distribution shapes, average values, and outliers."
   ]
  },
  {
   "cell_type": "code",
   "execution_count": 69,
   "id": "a9521fa4",
   "metadata": {},
   "outputs": [
    {
     "ename": "ValueError",
     "evalue": "supplied range of [17.84908225696805, inf] is not finite",
     "output_type": "error",
     "traceback": [
      "\u001b[1;31m---------------------------------------------------------------------------\u001b[0m",
      "\u001b[1;31mValueError\u001b[0m                                Traceback (most recent call last)",
      "Cell \u001b[1;32mIn[69], line 5\u001b[0m\n\u001b[0;32m      2\u001b[0m plt\u001b[38;5;241m.\u001b[39mfigure(figsize\u001b[38;5;241m=\u001b[39m(\u001b[38;5;241m10\u001b[39m, \u001b[38;5;241m6\u001b[39m))\n\u001b[0;32m      4\u001b[0m \u001b[38;5;66;03m# Plot histogram for dollar_hr\u001b[39;00m\n\u001b[1;32m----> 5\u001b[0m plt\u001b[38;5;241m.\u001b[39mhist(taxis[\u001b[38;5;124m'\u001b[39m\u001b[38;5;124mdollar_hr\u001b[39m\u001b[38;5;124m'\u001b[39m], label\u001b[38;5;241m=\u001b[39m\u001b[38;5;124m'\u001b[39m\u001b[38;5;124m$ per Hour\u001b[39m\u001b[38;5;124m'\u001b[39m)\n\u001b[0;32m      7\u001b[0m \u001b[38;5;66;03m# Plot histogram for dollar_per_km\u001b[39;00m\n\u001b[0;32m      8\u001b[0m plt\u001b[38;5;241m.\u001b[39mhist(taxis[\u001b[38;5;124m'\u001b[39m\u001b[38;5;124mdollar_km\u001b[39m\u001b[38;5;124m'\u001b[39m], label\u001b[38;5;241m=\u001b[39m\u001b[38;5;124m'\u001b[39m\u001b[38;5;124m$ per Km\u001b[39m\u001b[38;5;124m'\u001b[39m)\n",
      "File \u001b[1;32m~\\anaconda3\\Lib\\site-packages\\matplotlib\\pyplot.py:2645\u001b[0m, in \u001b[0;36mhist\u001b[1;34m(x, bins, range, density, weights, cumulative, bottom, histtype, align, orientation, rwidth, log, color, label, stacked, data, **kwargs)\u001b[0m\n\u001b[0;32m   2639\u001b[0m \u001b[38;5;129m@_copy_docstring_and_deprecators\u001b[39m(Axes\u001b[38;5;241m.\u001b[39mhist)\n\u001b[0;32m   2640\u001b[0m \u001b[38;5;28;01mdef\u001b[39;00m \u001b[38;5;21mhist\u001b[39m(\n\u001b[0;32m   2641\u001b[0m         x, bins\u001b[38;5;241m=\u001b[39m\u001b[38;5;28;01mNone\u001b[39;00m, \u001b[38;5;28mrange\u001b[39m\u001b[38;5;241m=\u001b[39m\u001b[38;5;28;01mNone\u001b[39;00m, density\u001b[38;5;241m=\u001b[39m\u001b[38;5;28;01mFalse\u001b[39;00m, weights\u001b[38;5;241m=\u001b[39m\u001b[38;5;28;01mNone\u001b[39;00m,\n\u001b[0;32m   2642\u001b[0m         cumulative\u001b[38;5;241m=\u001b[39m\u001b[38;5;28;01mFalse\u001b[39;00m, bottom\u001b[38;5;241m=\u001b[39m\u001b[38;5;28;01mNone\u001b[39;00m, histtype\u001b[38;5;241m=\u001b[39m\u001b[38;5;124m'\u001b[39m\u001b[38;5;124mbar\u001b[39m\u001b[38;5;124m'\u001b[39m, align\u001b[38;5;241m=\u001b[39m\u001b[38;5;124m'\u001b[39m\u001b[38;5;124mmid\u001b[39m\u001b[38;5;124m'\u001b[39m,\n\u001b[0;32m   2643\u001b[0m         orientation\u001b[38;5;241m=\u001b[39m\u001b[38;5;124m'\u001b[39m\u001b[38;5;124mvertical\u001b[39m\u001b[38;5;124m'\u001b[39m, rwidth\u001b[38;5;241m=\u001b[39m\u001b[38;5;28;01mNone\u001b[39;00m, log\u001b[38;5;241m=\u001b[39m\u001b[38;5;28;01mFalse\u001b[39;00m, color\u001b[38;5;241m=\u001b[39m\u001b[38;5;28;01mNone\u001b[39;00m,\n\u001b[0;32m   2644\u001b[0m         label\u001b[38;5;241m=\u001b[39m\u001b[38;5;28;01mNone\u001b[39;00m, stacked\u001b[38;5;241m=\u001b[39m\u001b[38;5;28;01mFalse\u001b[39;00m, \u001b[38;5;241m*\u001b[39m, data\u001b[38;5;241m=\u001b[39m\u001b[38;5;28;01mNone\u001b[39;00m, \u001b[38;5;241m*\u001b[39m\u001b[38;5;241m*\u001b[39mkwargs):\n\u001b[1;32m-> 2645\u001b[0m     \u001b[38;5;28;01mreturn\u001b[39;00m gca()\u001b[38;5;241m.\u001b[39mhist(\n\u001b[0;32m   2646\u001b[0m         x, bins\u001b[38;5;241m=\u001b[39mbins, \u001b[38;5;28mrange\u001b[39m\u001b[38;5;241m=\u001b[39m\u001b[38;5;28mrange\u001b[39m, density\u001b[38;5;241m=\u001b[39mdensity, weights\u001b[38;5;241m=\u001b[39mweights,\n\u001b[0;32m   2647\u001b[0m         cumulative\u001b[38;5;241m=\u001b[39mcumulative, bottom\u001b[38;5;241m=\u001b[39mbottom, histtype\u001b[38;5;241m=\u001b[39mhisttype,\n\u001b[0;32m   2648\u001b[0m         align\u001b[38;5;241m=\u001b[39malign, orientation\u001b[38;5;241m=\u001b[39morientation, rwidth\u001b[38;5;241m=\u001b[39mrwidth, log\u001b[38;5;241m=\u001b[39mlog,\n\u001b[0;32m   2649\u001b[0m         color\u001b[38;5;241m=\u001b[39mcolor, label\u001b[38;5;241m=\u001b[39mlabel, stacked\u001b[38;5;241m=\u001b[39mstacked,\n\u001b[0;32m   2650\u001b[0m         \u001b[38;5;241m*\u001b[39m\u001b[38;5;241m*\u001b[39m({\u001b[38;5;124m\"\u001b[39m\u001b[38;5;124mdata\u001b[39m\u001b[38;5;124m\"\u001b[39m: data} \u001b[38;5;28;01mif\u001b[39;00m data \u001b[38;5;129;01mis\u001b[39;00m \u001b[38;5;129;01mnot\u001b[39;00m \u001b[38;5;28;01mNone\u001b[39;00m \u001b[38;5;28;01melse\u001b[39;00m {}), \u001b[38;5;241m*\u001b[39m\u001b[38;5;241m*\u001b[39mkwargs)\n",
      "File \u001b[1;32m~\\anaconda3\\Lib\\site-packages\\matplotlib\\__init__.py:1446\u001b[0m, in \u001b[0;36m_preprocess_data.<locals>.inner\u001b[1;34m(ax, data, *args, **kwargs)\u001b[0m\n\u001b[0;32m   1443\u001b[0m \u001b[38;5;129m@functools\u001b[39m\u001b[38;5;241m.\u001b[39mwraps(func)\n\u001b[0;32m   1444\u001b[0m \u001b[38;5;28;01mdef\u001b[39;00m \u001b[38;5;21minner\u001b[39m(ax, \u001b[38;5;241m*\u001b[39margs, data\u001b[38;5;241m=\u001b[39m\u001b[38;5;28;01mNone\u001b[39;00m, \u001b[38;5;241m*\u001b[39m\u001b[38;5;241m*\u001b[39mkwargs):\n\u001b[0;32m   1445\u001b[0m     \u001b[38;5;28;01mif\u001b[39;00m data \u001b[38;5;129;01mis\u001b[39;00m \u001b[38;5;28;01mNone\u001b[39;00m:\n\u001b[1;32m-> 1446\u001b[0m         \u001b[38;5;28;01mreturn\u001b[39;00m func(ax, \u001b[38;5;241m*\u001b[39m\u001b[38;5;28mmap\u001b[39m(sanitize_sequence, args), \u001b[38;5;241m*\u001b[39m\u001b[38;5;241m*\u001b[39mkwargs)\n\u001b[0;32m   1448\u001b[0m     bound \u001b[38;5;241m=\u001b[39m new_sig\u001b[38;5;241m.\u001b[39mbind(ax, \u001b[38;5;241m*\u001b[39margs, \u001b[38;5;241m*\u001b[39m\u001b[38;5;241m*\u001b[39mkwargs)\n\u001b[0;32m   1449\u001b[0m     auto_label \u001b[38;5;241m=\u001b[39m (bound\u001b[38;5;241m.\u001b[39marguments\u001b[38;5;241m.\u001b[39mget(label_namer)\n\u001b[0;32m   1450\u001b[0m                   \u001b[38;5;129;01mor\u001b[39;00m bound\u001b[38;5;241m.\u001b[39mkwargs\u001b[38;5;241m.\u001b[39mget(label_namer))\n",
      "File \u001b[1;32m~\\anaconda3\\Lib\\site-packages\\matplotlib\\axes\\_axes.py:6791\u001b[0m, in \u001b[0;36mAxes.hist\u001b[1;34m(self, x, bins, range, density, weights, cumulative, bottom, histtype, align, orientation, rwidth, log, color, label, stacked, **kwargs)\u001b[0m\n\u001b[0;32m   6787\u001b[0m \u001b[38;5;66;03m# Loop through datasets\u001b[39;00m\n\u001b[0;32m   6788\u001b[0m \u001b[38;5;28;01mfor\u001b[39;00m i \u001b[38;5;129;01min\u001b[39;00m \u001b[38;5;28mrange\u001b[39m(nx):\n\u001b[0;32m   6789\u001b[0m     \u001b[38;5;66;03m# this will automatically overwrite bins,\u001b[39;00m\n\u001b[0;32m   6790\u001b[0m     \u001b[38;5;66;03m# so that each histogram uses the same bins\u001b[39;00m\n\u001b[1;32m-> 6791\u001b[0m     m, bins \u001b[38;5;241m=\u001b[39m np\u001b[38;5;241m.\u001b[39mhistogram(x[i], bins, weights\u001b[38;5;241m=\u001b[39mw[i], \u001b[38;5;241m*\u001b[39m\u001b[38;5;241m*\u001b[39mhist_kwargs)\n\u001b[0;32m   6792\u001b[0m     tops\u001b[38;5;241m.\u001b[39mappend(m)\n\u001b[0;32m   6793\u001b[0m tops \u001b[38;5;241m=\u001b[39m np\u001b[38;5;241m.\u001b[39marray(tops, \u001b[38;5;28mfloat\u001b[39m)  \u001b[38;5;66;03m# causes problems later if it's an int\u001b[39;00m\n",
      "File \u001b[1;32m<__array_function__ internals>:200\u001b[0m, in \u001b[0;36mhistogram\u001b[1;34m(*args, **kwargs)\u001b[0m\n",
      "File \u001b[1;32m~\\anaconda3\\Lib\\site-packages\\numpy\\lib\\histograms.py:780\u001b[0m, in \u001b[0;36mhistogram\u001b[1;34m(a, bins, range, density, weights)\u001b[0m\n\u001b[0;32m    680\u001b[0m \u001b[38;5;250m\u001b[39m\u001b[38;5;124mr\u001b[39m\u001b[38;5;124;03m\"\"\"\u001b[39;00m\n\u001b[0;32m    681\u001b[0m \u001b[38;5;124;03mCompute the histogram of a dataset.\u001b[39;00m\n\u001b[0;32m    682\u001b[0m \n\u001b[1;32m   (...)\u001b[0m\n\u001b[0;32m    776\u001b[0m \n\u001b[0;32m    777\u001b[0m \u001b[38;5;124;03m\"\"\"\u001b[39;00m\n\u001b[0;32m    778\u001b[0m a, weights \u001b[38;5;241m=\u001b[39m _ravel_and_check_weights(a, weights)\n\u001b[1;32m--> 780\u001b[0m bin_edges, uniform_bins \u001b[38;5;241m=\u001b[39m _get_bin_edges(a, bins, \u001b[38;5;28mrange\u001b[39m, weights)\n\u001b[0;32m    782\u001b[0m \u001b[38;5;66;03m# Histogram is an integer or a float array depending on the weights.\u001b[39;00m\n\u001b[0;32m    783\u001b[0m \u001b[38;5;28;01mif\u001b[39;00m weights \u001b[38;5;129;01mis\u001b[39;00m \u001b[38;5;28;01mNone\u001b[39;00m:\n",
      "File \u001b[1;32m~\\anaconda3\\Lib\\site-packages\\numpy\\lib\\histograms.py:426\u001b[0m, in \u001b[0;36m_get_bin_edges\u001b[1;34m(a, bins, range, weights)\u001b[0m\n\u001b[0;32m    423\u001b[0m     \u001b[38;5;28;01mif\u001b[39;00m n_equal_bins \u001b[38;5;241m<\u001b[39m \u001b[38;5;241m1\u001b[39m:\n\u001b[0;32m    424\u001b[0m         \u001b[38;5;28;01mraise\u001b[39;00m \u001b[38;5;167;01mValueError\u001b[39;00m(\u001b[38;5;124m'\u001b[39m\u001b[38;5;124m`bins` must be positive, when an integer\u001b[39m\u001b[38;5;124m'\u001b[39m)\n\u001b[1;32m--> 426\u001b[0m     first_edge, last_edge \u001b[38;5;241m=\u001b[39m _get_outer_edges(a, \u001b[38;5;28mrange\u001b[39m)\n\u001b[0;32m    428\u001b[0m \u001b[38;5;28;01melif\u001b[39;00m np\u001b[38;5;241m.\u001b[39mndim(bins) \u001b[38;5;241m==\u001b[39m \u001b[38;5;241m1\u001b[39m:\n\u001b[0;32m    429\u001b[0m     bin_edges \u001b[38;5;241m=\u001b[39m np\u001b[38;5;241m.\u001b[39masarray(bins)\n",
      "File \u001b[1;32m~\\anaconda3\\Lib\\site-packages\\numpy\\lib\\histograms.py:315\u001b[0m, in \u001b[0;36m_get_outer_edges\u001b[1;34m(a, range)\u001b[0m\n\u001b[0;32m    312\u001b[0m         \u001b[38;5;28;01mraise\u001b[39;00m \u001b[38;5;167;01mValueError\u001b[39;00m(\n\u001b[0;32m    313\u001b[0m             \u001b[38;5;124m'\u001b[39m\u001b[38;5;124mmax must be larger than min in range parameter.\u001b[39m\u001b[38;5;124m'\u001b[39m)\n\u001b[0;32m    314\u001b[0m     \u001b[38;5;28;01mif\u001b[39;00m \u001b[38;5;129;01mnot\u001b[39;00m (np\u001b[38;5;241m.\u001b[39misfinite(first_edge) \u001b[38;5;129;01mand\u001b[39;00m np\u001b[38;5;241m.\u001b[39misfinite(last_edge)):\n\u001b[1;32m--> 315\u001b[0m         \u001b[38;5;28;01mraise\u001b[39;00m \u001b[38;5;167;01mValueError\u001b[39;00m(\n\u001b[0;32m    316\u001b[0m             \u001b[38;5;124m\"\u001b[39m\u001b[38;5;124msupplied range of [\u001b[39m\u001b[38;5;132;01m{}\u001b[39;00m\u001b[38;5;124m, \u001b[39m\u001b[38;5;132;01m{}\u001b[39;00m\u001b[38;5;124m] is not finite\u001b[39m\u001b[38;5;124m\"\u001b[39m\u001b[38;5;241m.\u001b[39mformat(first_edge, last_edge))\n\u001b[0;32m    317\u001b[0m \u001b[38;5;28;01melif\u001b[39;00m a\u001b[38;5;241m.\u001b[39msize \u001b[38;5;241m==\u001b[39m \u001b[38;5;241m0\u001b[39m:\n\u001b[0;32m    318\u001b[0m     \u001b[38;5;66;03m# handle empty arrays. Can't determine range, so use 0-1.\u001b[39;00m\n\u001b[0;32m    319\u001b[0m     first_edge, last_edge \u001b[38;5;241m=\u001b[39m \u001b[38;5;241m0\u001b[39m, \u001b[38;5;241m1\u001b[39m\n",
      "\u001b[1;31mValueError\u001b[0m: supplied range of [17.84908225696805, inf] is not finite"
     ]
    },
    {
     "data": {
      "image/png": "[encoded data removed]",
      "text/plain": [
       "<Figure size 1000x600 with 1 Axes>"
      ]
     },
     "metadata": {},
     "output_type": "display_data"
    }
   ],
   "source": [
    "\n",
    " \n",
    "# Create a figure\n",
    "plt.figure(figsize=(10, 6))\n",
    " \n",
    "# Plot histogram for dollar_hr\n",
    "plt.hist(taxis['dollar_hr'], label='$ per Hour')\n",
    " \n",
    "# Plot histogram for dollar_per_km\n",
    "plt.hist(taxis['dollar_km'], label='$ per Km')\n",
    " \n",
    "# Set titles and labels\n",
    "plt.title('Overlay of $ per Hour and $ per Km Distributions')\n",
    "plt.xlabel('Dollar Value')\n",
    "plt.ylabel('Density')\n",
    " \n",
    "# Show legend\n",
    "plt.legend()\n",
    " \n",
    "# Show the plot\n",
    "plt.show()"
   ]
  },
  {
   "cell_type": "markdown",
   "id": "b8defada",
   "metadata": {},
   "source": [
    "# 6. Create a Synthetic Currency Column:"
   ]
  },
  {
   "cell_type": "code",
   "execution_count": 15,
   "id": "f4fcc806",
   "metadata": {},
   "outputs": [
    {
     "data": {
      "text/plain": [
       "0       AUD\n",
       "1       GBP\n",
       "2       MXN\n",
       "3       AUD\n",
       "4       GBP\n",
       "       ... \n",
       "6428    EUR\n",
       "6429    GBP\n",
       "6430    GBP\n",
       "6431    USD\n",
       "6432    USD\n",
       "Name: currency, Length: 6433, dtype: object"
      ]
     },
     "execution_count": 15,
     "metadata": {},
     "output_type": "execute_result"
    }
   ],
   "source": [
    "#Create a new column currency which chooses between GBP,USD,EUR,MXN,AUD using random.choice.\n",
    "taxis['currency'] = [random.choice(['GBP', 'USD', 'EUR', 'MXN', 'AUD'])\n",
    "                     for i in range(len(taxis))]\n",
    "taxis['currency'] "
   ]
  },
  {
   "cell_type": "markdown",
   "id": "0ed799ff",
   "metadata": {},
   "source": [
    "-- The code creates a new column, \"currency\",randomly assigning a currency from a list of options (GBP, USD, EUR, MXN, AUD) to each row. \n",
    "-- The loop runs for each row  creating a list of randomly chosen currencies. "
   ]
  },
  {
   "cell_type": "markdown",
   "id": "c853ef3d",
   "metadata": {},
   "source": [
    "# 7. Normalize Currency to CAD:"
   ]
  },
  {
   "cell_type": "code",
   "execution_count": 16,
   "id": "d3b9dd50",
   "metadata": {},
   "outputs": [
    {
     "data": {
      "text/plain": [
       "{'GBP': 1.7, 'USD': 1.35, 'EUR': 1.45, 'MXN': 0.075, 'AUD': 0.9}"
      ]
     },
     "execution_count": 16,
     "metadata": {},
     "output_type": "execute_result"
    }
   ],
   "source": [
    "# Create a dictionary that contains the mapping from the currencies from above to CAD\n",
    "currency_to_cad = { \"GBP\": 1.70, \"USD\": 1.35,  \"EUR\": 1.45,  \"MXN\": 0.075, \"AUD\": 0.90, }\n",
    "currency_to_cad"
   ]
  },
  {
   "cell_type": "code",
   "execution_count": 17,
   "id": "d5528086",
   "metadata": {},
   "outputs": [
    {
     "data": {
      "text/html": [
       "<div>\n",
       "<style scoped>\n",
       "    .dataframe tbody tr th:only-of-type {\n",
       "        vertical-align: middle;\n",
       "    }\n",
       "\n",
       "    .dataframe tbody tr th {\n",
       "        vertical-align: top;\n",
       "    }\n",
       "\n",
       "    .dataframe thead th {\n",
       "        text-align: right;\n",
       "    }\n",
       "</style>\n",
       "<table border=\"1\" class=\"dataframe\">\n",
       "  <thead>\n",
       "    <tr style=\"text-align: right;\">\n",
       "      <th></th>\n",
       "      <th>total</th>\n",
       "      <th>currency</th>\n",
       "      <th>totaltocad</th>\n",
       "    </tr>\n",
       "  </thead>\n",
       "  <tbody>\n",
       "    <tr>\n",
       "      <th>0</th>\n",
       "      <td>12.95</td>\n",
       "      <td>AUD</td>\n",
       "      <td>11.655</td>\n",
       "    </tr>\n",
       "    <tr>\n",
       "      <th>1</th>\n",
       "      <td>9.30</td>\n",
       "      <td>GBP</td>\n",
       "      <td>15.810</td>\n",
       "    </tr>\n",
       "    <tr>\n",
       "      <th>2</th>\n",
       "      <td>14.16</td>\n",
       "      <td>MXN</td>\n",
       "      <td>1.062</td>\n",
       "    </tr>\n",
       "    <tr>\n",
       "      <th>3</th>\n",
       "      <td>36.95</td>\n",
       "      <td>AUD</td>\n",
       "      <td>33.255</td>\n",
       "    </tr>\n",
       "    <tr>\n",
       "      <th>4</th>\n",
       "      <td>13.40</td>\n",
       "      <td>GBP</td>\n",
       "      <td>22.780</td>\n",
       "    </tr>\n",
       "    <tr>\n",
       "      <th>...</th>\n",
       "      <td>...</td>\n",
       "      <td>...</td>\n",
       "      <td>...</td>\n",
       "    </tr>\n",
       "    <tr>\n",
       "      <th>6428</th>\n",
       "      <td>6.36</td>\n",
       "      <td>EUR</td>\n",
       "      <td>9.222</td>\n",
       "    </tr>\n",
       "    <tr>\n",
       "      <th>6429</th>\n",
       "      <td>58.80</td>\n",
       "      <td>GBP</td>\n",
       "      <td>99.960</td>\n",
       "    </tr>\n",
       "    <tr>\n",
       "      <th>6430</th>\n",
       "      <td>17.30</td>\n",
       "      <td>GBP</td>\n",
       "      <td>29.410</td>\n",
       "    </tr>\n",
       "    <tr>\n",
       "      <th>6431</th>\n",
       "      <td>6.80</td>\n",
       "      <td>USD</td>\n",
       "      <td>9.180</td>\n",
       "    </tr>\n",
       "    <tr>\n",
       "      <th>6432</th>\n",
       "      <td>20.16</td>\n",
       "      <td>USD</td>\n",
       "      <td>27.216</td>\n",
       "    </tr>\n",
       "  </tbody>\n",
       "</table>\n",
       "<p>6433 rows × 3 columns</p>\n",
       "</div>"
      ],
      "text/plain": [
       "      total currency  totaltocad\n",
       "0     12.95      AUD      11.655\n",
       "1      9.30      GBP      15.810\n",
       "2     14.16      MXN       1.062\n",
       "3     36.95      AUD      33.255\n",
       "4     13.40      GBP      22.780\n",
       "...     ...      ...         ...\n",
       "6428   6.36      EUR       9.222\n",
       "6429  58.80      GBP      99.960\n",
       "6430  17.30      GBP      29.410\n",
       "6431   6.80      USD       9.180\n",
       "6432  20.16      USD      27.216\n",
       "\n",
       "[6433 rows x 3 columns]"
      ]
     },
     "execution_count": 17,
     "metadata": {},
     "output_type": "execute_result"
    }
   ],
   "source": [
    "# Normalize the total column of taxis to CAD using any of the following strategies:apply,lambda,iterrows\n",
    "taxis['totaltocad'] = taxis.apply(lambda x: x['total'] * currency_to_cad[x['currency']], axis=1)\n",
    "taxis[['total','currency','totaltocad']]"
   ]
  },
  {
   "cell_type": "markdown",
   "id": "46dce6fc",
   "metadata": {},
   "source": [
    "- This code converts the `total` column in the `taxis` DataFrame to Canadian dollars (CAD) using the `currency_to_cad` exchange rates. \n",
    "- The mapping dictionary defines the conversion rates for each currency to CAD. \n",
    "- The lambda function multiplies the total value by the CAD conversion rate for the corresponding currency, and the `currency_to_cad[x['currency']]` retrieves the CAD rate for the currency in that row. "
   ]
  },
  {
   "cell_type": "markdown",
   "id": "8995fc01",
   "metadata": {},
   "source": [
    "# PIVOT TABLES"
   ]
  },
  {
   "cell_type": "markdown",
   "id": "0b316f65",
   "metadata": {},
   "source": [
    "# 8. Extract Date Components:"
   ]
  },
  {
   "cell_type": "code",
   "execution_count": 18,
   "id": "d8f639fc",
   "metadata": {},
   "outputs": [
    {
     "data": {
      "text/plain": [
       "0       2019-03-23\n",
       "1       2019-03-04\n",
       "2       2019-03-27\n",
       "3       2019-03-10\n",
       "4       2019-03-30\n",
       "           ...    \n",
       "6428    2019-03-31\n",
       "6429    2019-03-31\n",
       "6430    2019-03-23\n",
       "6431    2019-03-04\n",
       "6432    2019-03-13\n",
       "Name: date, Length: 6433, dtype: object"
      ]
     },
     "execution_count": 18,
     "metadata": {},
     "output_type": "execute_result"
    }
   ],
   "source": [
    "# Create a column named date with components year, month, and day extracted from pickup.\n",
    "taxis['date'] =pd.to_datetime(taxis['pickup']).dt.date\n",
    "taxis['date']"
   ]
  },
  {
   "cell_type": "markdown",
   "id": "c74cf8c1",
   "metadata": {},
   "source": [
    "- This code converts a string or timestamp into a datetime object using the `pd.to_datetime()` function.\n",
    "- It then extracts the date part (year, month, and day) from the `datetime` object, discarding the time component if present."
   ]
  },
  {
   "cell_type": "markdown",
   "id": "299d1b3c",
   "metadata": {},
   "source": [
    "# Pivot"
   ]
  },
  {
   "cell_type": "markdown",
   "id": "981dbbfa",
   "metadata": {},
   "source": [
    "# 9. Pivot for Sum by Multiple Columns:"
   ]
  },
  {
   "cell_type": "code",
   "execution_count": 19,
   "id": "c059a33f",
   "metadata": {},
   "outputs": [
    {
     "name": "stdout",
     "output_type": "stream",
     "text": [
      "date            2019-02-28 2019-03-01                                      \\\n",
      "color                green      green                                       \n",
      "passengers               1          1                                       \n",
      "pickup_borough      Queens      Bronx           Brooklyn                    \n",
      "dropoff_borough     Queens      Bronx Manhattan Brooklyn Manhattan Queens   \n",
      "total                  6.3      55.52      13.8   208.17     36.66  91.62   \n",
      "\n",
      "date                                               ... 2019-03-31         \\\n",
      "color                                              ...     yellow          \n",
      "passengers                                      2  ...          1          \n",
      "pickup_borough  Manhattan    Queens        Queens  ...     Queens          \n",
      "dropoff_borough Manhattan Manhattan Queens Queens  ...  Manhattan Queens   \n",
      "total               68.63     77.61  97.36   21.6  ...       97.5  75.66   \n",
      "\n",
      "date                                                                         \\\n",
      "color                                                                         \n",
      "passengers              2                             3         4         5   \n",
      "pickup_borough   Brooklyn Manhattan           Manhattan Manhattan Manhattan   \n",
      "dropoff_borough Manhattan  Brooklyn Manhattan Manhattan Manhattan Manhattan   \n",
      "total                22.3     59.51    365.64    106.93     51.78    112.73   \n",
      "\n",
      "date                                \n",
      "color                               \n",
      "passengers                       6  \n",
      "pickup_borough    Queens Manhattan  \n",
      "dropoff_borough Brooklyn Manhattan  \n",
      "total               40.8     22.96  \n",
      "\n",
      "[1 rows x 951 columns]\n"
     ]
    }
   ],
   "source": [
    "# Create a pivot table to show the total sum grouped by date, color, passengers, pickup_borough, and dropoff_borough.\n",
    "pivot_table = taxis.pivot_table( values='total', columns=[ 'date','color', 'passengers', 'pickup_borough', 'dropoff_borough'],\n",
    "    aggfunc='sum') #group_by_column\n",
    "print(pivot_table)"
   ]
  },
  {
   "cell_type": "markdown",
   "id": "cc5ba711",
   "metadata": {},
   "source": [
    "The  code aggregates the total fare for each unique combination of date, color, passengers, pickup_borough, and dropoff_borough, displaying the corresponding total fare."
   ]
  },
  {
   "cell_type": "markdown",
   "id": "bc0f9254",
   "metadata": {},
   "source": [
    "# 10. Pivot for Average Dollar per Hour by Multiple Columns:"
   ]
  },
  {
   "cell_type": "code",
   "execution_count": 20,
   "id": "4ebe2c06",
   "metadata": {},
   "outputs": [
    {
     "data": {
      "text/html": [
       "<div>\n",
       "<style scoped>\n",
       "    .dataframe tbody tr th:only-of-type {\n",
       "        vertical-align: middle;\n",
       "    }\n",
       "\n",
       "    .dataframe tbody tr th {\n",
       "        vertical-align: top;\n",
       "    }\n",
       "\n",
       "    .dataframe thead th {\n",
       "        text-align: right;\n",
       "    }\n",
       "</style>\n",
       "<table border=\"1\" class=\"dataframe\">\n",
       "  <thead>\n",
       "    <tr style=\"text-align: right;\">\n",
       "      <th></th>\n",
       "      <th></th>\n",
       "      <th></th>\n",
       "      <th></th>\n",
       "      <th>dollar_hr</th>\n",
       "    </tr>\n",
       "    <tr>\n",
       "      <th>date</th>\n",
       "      <th>color</th>\n",
       "      <th>pickup_borough</th>\n",
       "      <th>dropoff_borough</th>\n",
       "      <th></th>\n",
       "    </tr>\n",
       "  </thead>\n",
       "  <tbody>\n",
       "    <tr>\n",
       "      <th>2019-02-28</th>\n",
       "      <th>green</th>\n",
       "      <th>Queens</th>\n",
       "      <th>Queens</th>\n",
       "      <td>106.981132</td>\n",
       "    </tr>\n",
       "    <tr>\n",
       "      <th rowspan=\"4\" valign=\"top\">2019-03-01</th>\n",
       "      <th rowspan=\"4\" valign=\"top\">green</th>\n",
       "      <th rowspan=\"2\" valign=\"top\">Bronx</th>\n",
       "      <th>Bronx</th>\n",
       "      <td>58.255185</td>\n",
       "    </tr>\n",
       "    <tr>\n",
       "      <th>Manhattan</th>\n",
       "      <td>49.188119</td>\n",
       "    </tr>\n",
       "    <tr>\n",
       "      <th rowspan=\"2\" valign=\"top\">Brooklyn</th>\n",
       "      <th>Brooklyn</th>\n",
       "      <td>59.325074</td>\n",
       "    </tr>\n",
       "    <tr>\n",
       "      <th>Manhattan</th>\n",
       "      <td>77.953928</td>\n",
       "    </tr>\n",
       "    <tr>\n",
       "      <th>...</th>\n",
       "      <th>...</th>\n",
       "      <th>...</th>\n",
       "      <th>...</th>\n",
       "      <td>...</td>\n",
       "    </tr>\n",
       "    <tr>\n",
       "      <th rowspan=\"5\" valign=\"top\">2019-03-31</th>\n",
       "      <th rowspan=\"5\" valign=\"top\">yellow</th>\n",
       "      <th>Manhattan</th>\n",
       "      <th>Queens</th>\n",
       "      <td>120.695947</td>\n",
       "    </tr>\n",
       "    <tr>\n",
       "      <th rowspan=\"4\" valign=\"top\">Queens</th>\n",
       "      <th>Bronx</th>\n",
       "      <td>72.561743</td>\n",
       "    </tr>\n",
       "    <tr>\n",
       "      <th>Brooklyn</th>\n",
       "      <td>81.014892</td>\n",
       "    </tr>\n",
       "    <tr>\n",
       "      <th>Manhattan</th>\n",
       "      <td>91.767297</td>\n",
       "    </tr>\n",
       "    <tr>\n",
       "      <th>Queens</th>\n",
       "      <td>83.449361</td>\n",
       "    </tr>\n",
       "  </tbody>\n",
       "</table>\n",
       "<p>498 rows × 1 columns</p>\n",
       "</div>"
      ],
      "text/plain": [
       "                                                   dollar_hr\n",
       "date       color  pickup_borough dropoff_borough            \n",
       "2019-02-28 green  Queens         Queens           106.981132\n",
       "2019-03-01 green  Bronx          Bronx             58.255185\n",
       "                                 Manhattan         49.188119\n",
       "                  Brooklyn       Brooklyn          59.325074\n",
       "                                 Manhattan         77.953928\n",
       "...                                                      ...\n",
       "2019-03-31 yellow Manhattan      Queens           120.695947\n",
       "                  Queens         Bronx             72.561743\n",
       "                                 Brooklyn          81.014892\n",
       "                                 Manhattan         91.767297\n",
       "                                 Queens            83.449361\n",
       "\n",
       "[498 rows x 1 columns]"
      ]
     },
     "execution_count": 20,
     "metadata": {},
     "output_type": "execute_result"
    }
   ],
   "source": [
    "\n",
    "pivot_taxis_dollar_hr= taxis.pivot_table(values='dollar_hr',          \n",
    "    index=['date', 'color', 'pickup_borough', 'dropoff_borough'],\n",
    "    aggfunc='mean') #groupbyindex\n",
    "pivot_taxis_dollar_hr"
   ]
  },
  {
   "cell_type": "markdown",
   "id": "2428a9b4",
   "metadata": {},
   "source": [
    "The data is grouped by unique combinations of date, color, pickup_borough, and dropoff_borough, and the mean dollar_hr is calculated for each group."
   ]
  },
  {
   "cell_type": "code",
   "execution_count": 54,
   "id": "fc503199",
   "metadata": {},
   "outputs": [
    {
     "data": {
      "text/html": [
       "<div>\n",
       "<style scoped>\n",
       "    .dataframe tbody tr th:only-of-type {\n",
       "        vertical-align: middle;\n",
       "    }\n",
       "\n",
       "    .dataframe tbody tr th {\n",
       "        vertical-align: top;\n",
       "    }\n",
       "\n",
       "    .dataframe thead th {\n",
       "        text-align: right;\n",
       "    }\n",
       "</style>\n",
       "<table border=\"1\" class=\"dataframe\">\n",
       "  <thead>\n",
       "    <tr style=\"text-align: right;\">\n",
       "      <th></th>\n",
       "      <th>date</th>\n",
       "      <th>color</th>\n",
       "      <th>pickup_borough</th>\n",
       "      <th>dropoff_borough</th>\n",
       "      <th>variable</th>\n",
       "      <th>value</th>\n",
       "    </tr>\n",
       "  </thead>\n",
       "  <tbody>\n",
       "    <tr>\n",
       "      <th>0</th>\n",
       "      <td>2019-02-28</td>\n",
       "      <td>green</td>\n",
       "      <td>Queens</td>\n",
       "      <td>Queens</td>\n",
       "      <td>dollar_hr</td>\n",
       "      <td>106.981132</td>\n",
       "    </tr>\n",
       "    <tr>\n",
       "      <th>1</th>\n",
       "      <td>2019-03-01</td>\n",
       "      <td>green</td>\n",
       "      <td>Bronx</td>\n",
       "      <td>Bronx</td>\n",
       "      <td>dollar_hr</td>\n",
       "      <td>58.255185</td>\n",
       "    </tr>\n",
       "    <tr>\n",
       "      <th>2</th>\n",
       "      <td>2019-03-01</td>\n",
       "      <td>green</td>\n",
       "      <td>Bronx</td>\n",
       "      <td>Manhattan</td>\n",
       "      <td>dollar_hr</td>\n",
       "      <td>49.188119</td>\n",
       "    </tr>\n",
       "    <tr>\n",
       "      <th>3</th>\n",
       "      <td>2019-03-01</td>\n",
       "      <td>green</td>\n",
       "      <td>Brooklyn</td>\n",
       "      <td>Brooklyn</td>\n",
       "      <td>dollar_hr</td>\n",
       "      <td>59.325074</td>\n",
       "    </tr>\n",
       "    <tr>\n",
       "      <th>4</th>\n",
       "      <td>2019-03-01</td>\n",
       "      <td>green</td>\n",
       "      <td>Brooklyn</td>\n",
       "      <td>Manhattan</td>\n",
       "      <td>dollar_hr</td>\n",
       "      <td>77.953928</td>\n",
       "    </tr>\n",
       "    <tr>\n",
       "      <th>...</th>\n",
       "      <td>...</td>\n",
       "      <td>...</td>\n",
       "      <td>...</td>\n",
       "      <td>...</td>\n",
       "      <td>...</td>\n",
       "      <td>...</td>\n",
       "    </tr>\n",
       "    <tr>\n",
       "      <th>493</th>\n",
       "      <td>2019-03-31</td>\n",
       "      <td>yellow</td>\n",
       "      <td>Manhattan</td>\n",
       "      <td>Queens</td>\n",
       "      <td>dollar_hr</td>\n",
       "      <td>120.695947</td>\n",
       "    </tr>\n",
       "    <tr>\n",
       "      <th>494</th>\n",
       "      <td>2019-03-31</td>\n",
       "      <td>yellow</td>\n",
       "      <td>Queens</td>\n",
       "      <td>Bronx</td>\n",
       "      <td>dollar_hr</td>\n",
       "      <td>72.561743</td>\n",
       "    </tr>\n",
       "    <tr>\n",
       "      <th>495</th>\n",
       "      <td>2019-03-31</td>\n",
       "      <td>yellow</td>\n",
       "      <td>Queens</td>\n",
       "      <td>Brooklyn</td>\n",
       "      <td>dollar_hr</td>\n",
       "      <td>81.014892</td>\n",
       "    </tr>\n",
       "    <tr>\n",
       "      <th>496</th>\n",
       "      <td>2019-03-31</td>\n",
       "      <td>yellow</td>\n",
       "      <td>Queens</td>\n",
       "      <td>Manhattan</td>\n",
       "      <td>dollar_hr</td>\n",
       "      <td>91.767297</td>\n",
       "    </tr>\n",
       "    <tr>\n",
       "      <th>497</th>\n",
       "      <td>2019-03-31</td>\n",
       "      <td>yellow</td>\n",
       "      <td>Queens</td>\n",
       "      <td>Queens</td>\n",
       "      <td>dollar_hr</td>\n",
       "      <td>83.449361</td>\n",
       "    </tr>\n",
       "  </tbody>\n",
       "</table>\n",
       "<p>498 rows × 6 columns</p>\n",
       "</div>"
      ],
      "text/plain": [
       "           date   color pickup_borough dropoff_borough   variable       value\n",
       "0    2019-02-28   green         Queens          Queens  dollar_hr  106.981132\n",
       "1    2019-03-01   green          Bronx           Bronx  dollar_hr   58.255185\n",
       "2    2019-03-01   green          Bronx       Manhattan  dollar_hr   49.188119\n",
       "3    2019-03-01   green       Brooklyn        Brooklyn  dollar_hr   59.325074\n",
       "4    2019-03-01   green       Brooklyn       Manhattan  dollar_hr   77.953928\n",
       "..          ...     ...            ...             ...        ...         ...\n",
       "493  2019-03-31  yellow      Manhattan          Queens  dollar_hr  120.695947\n",
       "494  2019-03-31  yellow         Queens           Bronx  dollar_hr   72.561743\n",
       "495  2019-03-31  yellow         Queens        Brooklyn  dollar_hr   81.014892\n",
       "496  2019-03-31  yellow         Queens       Manhattan  dollar_hr   91.767297\n",
       "497  2019-03-31  yellow         Queens          Queens  dollar_hr   83.449361\n",
       "\n",
       "[498 rows x 6 columns]"
      ]
     },
     "execution_count": 54,
     "metadata": {},
     "output_type": "execute_result"
    }
   ],
   "source": [
    "# 11. Reverse Pivot Table:\n",
    "Tell me if taxis_dollar_hr_rate can be reversed back to the original taxis dataframe.\n",
    "taxis_reversed = pivot_taxis_dollar_hr.reset_index()\n",
    "taxis_melted = pd.melt(taxis_reversed, id_vars=['date','color', 'pickup_borough', 'dropoff_borough'], value_vars = ['dollar_hr'])\n",
    "taxis_melted"
   ]
  },
  {
   "cell_type": "markdown",
   "id": "c641bcb9",
   "metadata": {},
   "source": [
    "Pivot tables and reverse pivoting are useful tools for displaying data in pandas, but may lose original row-level data during aggregation or restructuring a DataFrame."
   ]
  },
  {
   "cell_type": "markdown",
   "id": "86c7d785",
   "metadata": {},
   "source": [
    "# Time series Analysis"
   ]
  },
  {
   "cell_type": "code",
   "execution_count": null,
   "id": "d07615a8",
   "metadata": {},
   "outputs": [],
   "source": []
  },
  {
   "cell_type": "markdown",
   "id": "c17fd965",
   "metadata": {},
   "source": [
    "# 12.  Sum Dollar per Day"
   ]
  },
  {
   "cell_type": "code",
   "execution_count": 22,
   "id": "1fa0b230",
   "metadata": {},
   "outputs": [
    {
     "data": {
      "text/plain": [
       "date\n",
       "2019-02-28       6.30\n",
       "2019-03-01    4213.83\n",
       "2019-03-02    3319.02\n",
       "2019-03-03    3027.32\n",
       "2019-03-04    3269.08\n",
       "2019-03-05    4377.38\n",
       "2019-03-06    4673.61\n",
       "2019-03-07    4115.70\n",
       "2019-03-08    4524.21\n",
       "2019-03-09    3785.80\n",
       "2019-03-10    3198.69\n",
       "2019-03-11    4021.26\n",
       "2019-03-12    3875.80\n",
       "2019-03-13    4868.06\n",
       "2019-03-14    4742.55\n",
       "2019-03-15    4030.29\n",
       "2019-03-16    3836.58\n",
       "2019-03-17    3469.50\n",
       "2019-03-18    3258.78\n",
       "2019-03-19    3963.92\n",
       "2019-03-20    4522.95\n",
       "2019-03-21    4355.08\n",
       "2019-03-22    4245.36\n",
       "2019-03-23    3355.98\n",
       "2019-03-24    2616.81\n",
       "2019-03-25    2877.55\n",
       "2019-03-26    3366.20\n",
       "2019-03-27    4417.17\n",
       "2019-03-28    3886.44\n",
       "2019-03-29    3790.52\n",
       "2019-03-30    4004.39\n",
       "2019-03-31    3108.84\n",
       "Name: total, dtype: float64"
      ]
     },
     "execution_count": 22,
     "metadata": {},
     "output_type": "execute_result"
    }
   ],
   "source": [
    "#Using resample or groupby by daily frequency, compute the total dollar amount per day, and rename this series time_series.\n",
    "time_series = taxis.groupby('date')['total'].sum()\n",
    "time_series"
   ]
  },
  {
   "cell_type": "markdown",
   "id": "fba3c1f5",
   "metadata": {},
   "source": [
    "The 'time_series' function is used to group data by day, resulting in a new series with the index for each day and the total dollar amount."
   ]
  },
  {
   "cell_type": "markdown",
   "id": "913f75aa",
   "metadata": {},
   "source": [
    "# 13. Check for Missing Days:"
   ]
  },
  {
   "cell_type": "code",
   "execution_count": 23,
   "id": "906e97eb",
   "metadata": {},
   "outputs": [
    {
     "name": "stdout",
     "output_type": "stream",
     "text": [
      "No missing days\n"
     ]
    }
   ],
   "source": [
    "#Ensure no missing days between each entry in time_series, using one way to verify this (e.g., reset_index followed by .diff).\n",
    "#Report if there are any missing days.\n",
    "\n",
    "\n",
    "time_series_na = time_series.reset_index()  \n",
    "\n",
    "time_series['day_diff'] = time_series_na['date'].diff().dt.days\n",
    "\n",
    "if not time_series['day_diff'].isna().any():\n",
    "    print(\"Missing days:\",time_series['day_diff'])\n",
    "else:\n",
    "    print(\"No missing days\")"
   ]
  },
  {
   "cell_type": "markdown",
   "id": "c33979d0",
   "metadata": {},
   "source": [
    "- Reset the index to make 'date' a column and calculate the difference in days using `.diff().dt.days`. \n",
    "- Check if there are any missing days with a difference greater than 1 day using `missing_days`. \n",
    "- If not empty, display each date with a gap along with the `day_diff`."
   ]
  },
  {
   "cell_type": "markdown",
   "id": "1190f1a0",
   "metadata": {},
   "source": [
    "# 14. Line Plot"
   ]
  },
  {
   "cell_type": "code",
   "execution_count": 24,
   "id": "4ef039c9",
   "metadata": {},
   "outputs": [
    {
     "data": {
      "text/plain": [
       "Text(0.5, 1.0, 'Total Dollar Amount Per Day')"
      ]
     },
     "execution_count": 24,
     "metadata": {},
     "output_type": "execute_result"
    },
    {
     "data": {
      "image/png": "[encoded data removed]",
      "text/plain": [
       "<Figure size 1500x500 with 1 Axes>"
      ]
     },
     "metadata": {},
     "output_type": "display_data"
    }
   ],
   "source": [
    "# Plot time_series as a line plot.\n",
    "plt.figure(figsize=(15, 5))\n",
    "plt.plot(time_series_na['date'], time_series_na['total'])\n",
    "plt.title('Total Dollar Amount Per Day')\n"
   ]
  },
  {
   "cell_type": "markdown",
   "id": "7947380a",
   "metadata": {},
   "source": [
    "The code creates a time series line plot to visualize daily changes in total dollar amount, highlighting trends and anomalies."
   ]
  },
  {
   "cell_type": "markdown",
   "id": "8dac9a0b",
   "metadata": {},
   "source": [
    "# 15. Explain Groupby vs. Pivot"
   ]
  },
  {
   "cell_type": "code",
   "execution_count": 25,
   "id": "17abee09",
   "metadata": {},
   "outputs": [
    {
     "name": "stdout",
     "output_type": "stream",
     "text": [
      "groupby date\n",
      "2019-02-28       6.30\n",
      "2019-03-01    4213.83\n",
      "2019-03-02    3319.02\n",
      "2019-03-03    3027.32\n",
      "2019-03-04    3269.08\n",
      "2019-03-05    4377.38\n",
      "2019-03-06    4673.61\n",
      "2019-03-07    4115.70\n",
      "2019-03-08    4524.21\n",
      "2019-03-09    3785.80\n",
      "2019-03-10    3198.69\n",
      "2019-03-11    4021.26\n",
      "2019-03-12    3875.80\n",
      "2019-03-13    4868.06\n",
      "2019-03-14    4742.55\n",
      "2019-03-15    4030.29\n",
      "2019-03-16    3836.58\n",
      "2019-03-17    3469.50\n",
      "2019-03-18    3258.78\n",
      "2019-03-19    3963.92\n",
      "2019-03-20    4522.95\n",
      "2019-03-21    4355.08\n",
      "2019-03-22    4245.36\n",
      "2019-03-23    3355.98\n",
      "2019-03-24    2616.81\n",
      "2019-03-25    2877.55\n",
      "2019-03-26    3366.20\n",
      "2019-03-27    4417.17\n",
      "2019-03-28    3886.44\n",
      "2019-03-29    3790.52\n",
      "2019-03-30    4004.39\n",
      "2019-03-31    3108.84\n",
      "Name: total, dtype: float64 pivot date            2019-02-28 2019-03-01                                      \\\n",
      "color                green      green                                       \n",
      "passengers               1          1                                       \n",
      "pickup_borough      Queens      Bronx           Brooklyn                    \n",
      "dropoff_borough     Queens      Bronx Manhattan Brooklyn Manhattan Queens   \n",
      "total                  6.3      55.52      13.8   208.17     36.66  91.62   \n",
      "\n",
      "date                                               ... 2019-03-31         \\\n",
      "color                                              ...     yellow          \n",
      "passengers                                      2  ...          1          \n",
      "pickup_borough  Manhattan    Queens        Queens  ...     Queens          \n",
      "dropoff_borough Manhattan Manhattan Queens Queens  ...  Manhattan Queens   \n",
      "total               68.63     77.61  97.36   21.6  ...       97.5  75.66   \n",
      "\n",
      "date                                                                         \\\n",
      "color                                                                         \n",
      "passengers              2                             3         4         5   \n",
      "pickup_borough   Brooklyn Manhattan           Manhattan Manhattan Manhattan   \n",
      "dropoff_borough Manhattan  Brooklyn Manhattan Manhattan Manhattan Manhattan   \n",
      "total                22.3     59.51    365.64    106.93     51.78    112.73   \n",
      "\n",
      "date                                \n",
      "color                               \n",
      "passengers                       6  \n",
      "pickup_borough    Queens Manhattan  \n",
      "dropoff_borough Brooklyn Manhattan  \n",
      "total               40.8     22.96  \n",
      "\n",
      "[1 rows x 951 columns]\n"
     ]
    }
   ],
   "source": [
    "# Explain how groupby differs from pivot.\n",
    "time_series = taxis.groupby('date')['total'].sum()\n",
    "#This function groups data by columns and performs aggregate functions like sum, mean, and count, \n",
    "#returning a DataFrame or Series with grouped columns in the index.\n",
    "pivot_table = taxis.pivot_table( values='total', columns=[ 'date','color', 'passengers', 'pickup_borough', 'dropoff_borough'],\n",
    "    aggfunc='sum')\n",
    "#This function transforms unique column values into columns, creating a new table structure and resulting\n",
    "#in a reshaped DataFrame with specified index, columns, and values.\n",
    "\n",
    "print('groupby',time_series,'pivot',pivot_table)"
   ]
  },
  {
   "cell_type": "markdown",
   "id": "88f1289e",
   "metadata": {},
   "source": [
    "Groupby and pivot are data management tools used for grouping and summarizing data based on columns, respectively. Groupby requires an aggregate function, while pivot creates a new table with unique columns."
   ]
  },
  {
   "cell_type": "markdown",
   "id": "99c1eac6",
   "metadata": {},
   "source": [
    "# 16. Derivative and Integral"
   ]
  },
  {
   "cell_type": "code",
   "execution_count": 26,
   "id": "e88a10c4",
   "metadata": {},
   "outputs": [
    {
     "name": "stdout",
     "output_type": "stream",
     "text": [
      "derivative date\n",
      "2019-02-28        NaN\n",
      "2019-03-01    4207.53\n",
      "2019-03-02    -894.81\n",
      "2019-03-03    -291.70\n",
      "2019-03-04     241.76\n",
      "2019-03-05    1108.30\n",
      "2019-03-06     296.23\n",
      "2019-03-07    -557.91\n",
      "2019-03-08     408.51\n",
      "2019-03-09    -738.41\n",
      "2019-03-10    -587.11\n",
      "2019-03-11     822.57\n",
      "2019-03-12    -145.46\n",
      "2019-03-13     992.26\n",
      "2019-03-14    -125.51\n",
      "2019-03-15    -712.26\n",
      "2019-03-16    -193.71\n",
      "2019-03-17    -367.08\n",
      "2019-03-18    -210.72\n",
      "2019-03-19     705.14\n",
      "2019-03-20     559.03\n",
      "2019-03-21    -167.87\n",
      "2019-03-22    -109.72\n",
      "2019-03-23    -889.38\n",
      "2019-03-24    -739.17\n",
      "2019-03-25     260.74\n",
      "2019-03-26     488.65\n",
      "2019-03-27    1050.97\n",
      "2019-03-28    -530.73\n",
      "2019-03-29     -95.92\n",
      "2019-03-30     213.87\n",
      "2019-03-31    -895.55\n",
      "Name: total, dtype: float64\n",
      "integral date\n",
      "2019-02-28         6.30\n",
      "2019-03-01      4220.13\n",
      "2019-03-02      7539.15\n",
      "2019-03-03     10566.47\n",
      "2019-03-04     13835.55\n",
      "2019-03-05     18212.93\n",
      "2019-03-06     22886.54\n",
      "2019-03-07     27002.24\n",
      "2019-03-08     31526.45\n",
      "2019-03-09     35312.25\n",
      "2019-03-10     38510.94\n",
      "2019-03-11     42532.20\n",
      "2019-03-12     46408.00\n",
      "2019-03-13     51276.06\n",
      "2019-03-14     56018.61\n",
      "2019-03-15     60048.90\n",
      "2019-03-16     63885.48\n",
      "2019-03-17     67354.98\n",
      "2019-03-18     70613.76\n",
      "2019-03-19     74577.68\n",
      "2019-03-20     79100.63\n",
      "2019-03-21     83455.71\n",
      "2019-03-22     87701.07\n",
      "2019-03-23     91057.05\n",
      "2019-03-24     93673.86\n",
      "2019-03-25     96551.41\n",
      "2019-03-26     99917.61\n",
      "2019-03-27    104334.78\n",
      "2019-03-28    108221.22\n",
      "2019-03-29    112011.74\n",
      "2019-03-30    116016.13\n",
      "2019-03-31    119124.97\n",
      "Name: total, dtype: float64\n"
     ]
    }
   ],
   "source": [
    "#  Compute the derivative and integral of the time_series.\n",
    "\n",
    "derivative = time_series.diff()\n",
    "print('derivative',derivative)\n",
    "\n",
    "integral = time_series.cumsum()\n",
    "print('integral',integral)"
   ]
  },
  {
   "cell_type": "markdown",
   "id": "e823caeb",
   "metadata": {},
   "source": [
    "- Derivative Using .diff()\n",
    "  - Calculates difference between each consecutive value in the time_series.\n",
    "  - Represents the rate of change in total values from one time period to the next.\n",
    "  - Result: derivative is a new Series representing the difference between total values on consecutive days.\n",
    "\n",
    "- Integral Using .cumsum()\n",
    "  - Calculates the cumulative sum of the time_series values.\n",
    "  - Acts as a discrete approximation of the integral, representing the accumulated total over time.\n",
    "  - Result: integral is a new Series showing the running total of total up to that date."
   ]
  },
  {
   "cell_type": "markdown",
   "id": "ea37f407",
   "metadata": {},
   "source": [
    "# 17. Probability Density Function, Cumulative Distribution Functions"
   ]
  },
  {
   "cell_type": "code",
   "execution_count": 28,
   "id": "f6f68f6a",
   "metadata": {},
   "outputs": [
    {
     "data": {
      "image/png": "[encoded data removed]",
      "text/plain": [
       "<Figure size 1000x600 with 1 Axes>"
      ]
     },
     "metadata": {},
     "output_type": "display_data"
    },
    {
     "name": "stdout",
     "output_type": "stream",
     "text": [
      "5th percentile (lower threshold): 2760.217\n",
      "95th percentile (upper threshold): 4704.633\n",
      "Filtered time_series:\n",
      " date\n",
      "2019-03-01    4213.83\n",
      "2019-03-02    3319.02\n",
      "2019-03-03    3027.32\n",
      "2019-03-04    3269.08\n",
      "2019-03-05    4377.38\n",
      "2019-03-06    4673.61\n",
      "2019-03-07    4115.70\n",
      "2019-03-08    4524.21\n",
      "2019-03-09    3785.80\n",
      "2019-03-10    3198.69\n",
      "2019-03-11    4021.26\n",
      "2019-03-12    3875.80\n",
      "2019-03-15    4030.29\n",
      "2019-03-16    3836.58\n",
      "2019-03-17    3469.50\n",
      "2019-03-18    3258.78\n",
      "2019-03-19    3963.92\n",
      "2019-03-20    4522.95\n",
      "2019-03-21    4355.08\n",
      "2019-03-22    4245.36\n",
      "2019-03-23    3355.98\n",
      "2019-03-25    2877.55\n",
      "2019-03-26    3366.20\n",
      "2019-03-27    4417.17\n",
      "2019-03-28    3886.44\n",
      "2019-03-29    3790.52\n",
      "2019-03-30    4004.39\n",
      "2019-03-31    3108.84\n",
      "Name: total, dtype: float64\n"
     ]
    }
   ],
   "source": [
    "# Explain Probability Density Function. #Explain Cumulative Distribution Functions.\n",
    "\n",
    "from scipy.stats import gaussian_kde\n",
    "\n",
    "# PDF Calculation (Density Plot)\n",
    "density = gaussian_kde(time_series)\n",
    "x_vals = np.linspace(time_series.min(), time_series.max(), 100)\n",
    "pdf_vals = density(x_vals)\n",
    "\n",
    "# Plot the PDF\n",
    "plt.figure(figsize=(10, 6))\n",
    "plt.plot(x_vals, pdf_vals, color='blue')\n",
    "plt.title(\"PDF of time_series\")\n",
    "plt.xlabel(\"Dollar Amount\")\n",
    "plt.ylabel(\"Density\")\n",
    "plt.show()\n",
    "\n",
    "\n",
    "lower_threshold = np.percentile(time_series, 5)  # Bottom 5% threshold\n",
    "upper_threshold = np.percentile(time_series, 95)  # Top 5% threshold\n",
    "\n",
    "print(\"5th percentile (lower threshold):\", lower_threshold)\n",
    "print(\"95th percentile (upper threshold):\", upper_threshold)\n",
    "\n",
    "filtered_time_series = time_series[(time_series >= lower_threshold) & (time_series <= upper_threshold)]\n",
    "\n",
    "print(\"Filtered time_series:\\n\", filtered_time_series)\n"
   ]
  },
  {
   "cell_type": "markdown",
   "id": "433fc5b8",
   "metadata": {},
   "source": [
    "- This code calculates a Probability Density Function (PDF) plot, calculates percentiles, and filters out outliers from a time series. \n",
    "- It uses gaussian_kde to create a kernel density estimator (KDE) for the data, generates 100 equally spaced values, and plots the PDF. \n",
    "- The most likely value is determined by locating the highest peak on the PDF curve. \n",
    "- The code also calculates the 5th and 95th percentiles, filters out extreme outliers, and displays the filtered data."
   ]
  },
  {
   "cell_type": "markdown",
   "id": "e4544e2d",
   "metadata": {},
   "source": [
    "# Regression and Prediction"
   ]
  },
  {
   "cell_type": "markdown",
   "id": "962df83f",
   "metadata": {},
   "source": [
    "# 18. Fit Regression Model"
   ]
  },
  {
   "cell_type": "code",
   "execution_count": 33,
   "id": "d4e82899",
   "metadata": {},
   "outputs": [
    {
     "name": "stdout",
     "output_type": "stream",
     "text": [
      "                   date    total  day_index  OLS_Prediction  Lasso_Prediction  \\\n",
      "0            2019-02-28     6.30        0.0     3540.489375       3540.507557   \n",
      "1            2019-03-01  4213.83        1.0     3552.242016       3552.259025   \n",
      "2            2019-03-02  3319.02        2.0     3563.994657       3564.010493   \n",
      "3            2019-03-03  3027.32        3.0     3575.747298       3575.761961   \n",
      "4            2019-03-04  3269.08        4.0     3587.499940       3587.513429   \n",
      "5            2019-03-05  4377.38        5.0     3599.252581       3599.264897   \n",
      "6            2019-03-06  4673.61        6.0     3611.005222       3611.016365   \n",
      "7            2019-03-07  4115.70        7.0     3622.757863       3622.767834   \n",
      "8            2019-03-08  4524.21        8.0     3634.510504       3634.519302   \n",
      "9            2019-03-09  3785.80        9.0     3646.263145       3646.270770   \n",
      "10           2019-03-10  3198.69       10.0     3658.015786       3658.022238   \n",
      "11           2019-03-11  4021.26       11.0     3669.768427       3669.773706   \n",
      "12           2019-03-12  3875.80       12.0     3681.521069       3681.525174   \n",
      "13           2019-03-13  4868.06       13.0     3693.273710       3693.276642   \n",
      "14           2019-03-14  4742.55       14.0     3705.026351       3705.028110   \n",
      "15           2019-03-15  4030.29       15.0     3716.778992       3716.779578   \n",
      "16           2019-03-16  3836.58       16.0     3728.531633       3728.531047   \n",
      "17           2019-03-17  3469.50       17.0     3740.284274       3740.282515   \n",
      "18           2019-03-18  3258.78       18.0     3752.036915       3752.033983   \n",
      "19           2019-03-19  3963.92       19.0     3763.789556       3763.785451   \n",
      "20           2019-03-20  4522.95       20.0     3775.542198       3775.536919   \n",
      "21           2019-03-21  4355.08       21.0     3787.294839       3787.288387   \n",
      "22           2019-03-22  4245.36       22.0     3799.047480       3799.039855   \n",
      "23           2019-03-23  3355.98       23.0     3810.800121       3810.791323   \n",
      "24           2019-03-24  2616.81       24.0     3822.552762       3822.542791   \n",
      "25           2019-03-25  2877.55       25.0     3834.305403       3834.294260   \n",
      "26           2019-03-26  3366.20       26.0     3846.058044       3846.045728   \n",
      "27           2019-03-27  4417.17       27.0     3857.810685       3857.797196   \n",
      "28           2019-03-28  3886.44       28.0     3869.563327       3869.548664   \n",
      "29           2019-03-29  3790.52       29.0     3881.315968       3881.300132   \n",
      "30           2019-03-30  4004.39       30.0     3893.068609       3893.051600   \n",
      "31           2019-03-31  3108.84       31.0     3904.821250       3904.803068   \n",
      "0   2019-04-01 00:00:00      NaN        NaN             NaN               NaN   \n",
      "1   2019-04-02 00:00:00      NaN        NaN             NaN               NaN   \n",
      "2   2019-04-03 00:00:00      NaN        NaN             NaN               NaN   \n",
      "3   2019-04-04 00:00:00      NaN        NaN             NaN               NaN   \n",
      "4   2019-04-05 00:00:00      NaN        NaN             NaN               NaN   \n",
      "5   2019-04-06 00:00:00      NaN        NaN             NaN               NaN   \n",
      "6   2019-04-07 00:00:00      NaN        NaN             NaN               NaN   \n",
      "7   2019-04-08 00:00:00      NaN        NaN             NaN               NaN   \n",
      "8   2019-04-09 00:00:00      NaN        NaN             NaN               NaN   \n",
      "9   2019-04-10 00:00:00      NaN        NaN             NaN               NaN   \n",
      "10  2019-04-11 00:00:00      NaN        NaN             NaN               NaN   \n",
      "11  2019-04-12 00:00:00      NaN        NaN             NaN               NaN   \n",
      "12  2019-04-13 00:00:00      NaN        NaN             NaN               NaN   \n",
      "13  2019-04-14 00:00:00      NaN        NaN             NaN               NaN   \n",
      "14  2019-04-15 00:00:00      NaN        NaN             NaN               NaN   \n",
      "\n",
      "    Ridge_Prediction  OLS_Forecast  Lasso_Forecast  Ridge_Forecast  \n",
      "0        3540.496052           NaN             NaN             NaN  \n",
      "1        3552.248263           NaN             NaN             NaN  \n",
      "2        3564.000473           NaN             NaN             NaN  \n",
      "3        3575.752683           NaN             NaN             NaN  \n",
      "4        3587.504894           NaN             NaN             NaN  \n",
      "5        3599.257104           NaN             NaN             NaN  \n",
      "6        3611.009314           NaN             NaN             NaN  \n",
      "7        3622.761525           NaN             NaN             NaN  \n",
      "8        3634.513735           NaN             NaN             NaN  \n",
      "9        3646.265945           NaN             NaN             NaN  \n",
      "10       3658.018156           NaN             NaN             NaN  \n",
      "11       3669.770366           NaN             NaN             NaN  \n",
      "12       3681.522576           NaN             NaN             NaN  \n",
      "13       3693.274787           NaN             NaN             NaN  \n",
      "14       3705.026997           NaN             NaN             NaN  \n",
      "15       3716.779207           NaN             NaN             NaN  \n",
      "16       3728.531418           NaN             NaN             NaN  \n",
      "17       3740.283628           NaN             NaN             NaN  \n",
      "18       3752.035838           NaN             NaN             NaN  \n",
      "19       3763.788049           NaN             NaN             NaN  \n",
      "20       3775.540259           NaN             NaN             NaN  \n",
      "21       3787.292469           NaN             NaN             NaN  \n",
      "22       3799.044680           NaN             NaN             NaN  \n",
      "23       3810.796890           NaN             NaN             NaN  \n",
      "24       3822.549100           NaN             NaN             NaN  \n",
      "25       3834.301311           NaN             NaN             NaN  \n",
      "26       3846.053521           NaN             NaN             NaN  \n",
      "27       3857.805731           NaN             NaN             NaN  \n",
      "28       3869.557942           NaN             NaN             NaN  \n",
      "29       3881.310152           NaN             NaN             NaN  \n",
      "30       3893.062362           NaN             NaN             NaN  \n",
      "31       3904.814573           NaN             NaN             NaN  \n",
      "0                NaN   3916.573891     3916.554536     3916.566783  \n",
      "1                NaN   3928.326532     3928.306004     3928.318993  \n",
      "2                NaN   3940.079173     3940.057473     3940.071204  \n",
      "3                NaN   3951.831815     3951.808941     3951.823414  \n",
      "4                NaN   3963.584456     3963.560409     3963.575624  \n",
      "5                NaN   3975.337097     3975.311877     3975.327835  \n",
      "6                NaN   3987.089738     3987.063345     3987.080045  \n",
      "7                NaN   3998.842379     3998.814813     3998.832255  \n",
      "8                NaN   4010.595020     4010.566281     4010.584466  \n",
      "9                NaN   4022.347661     4022.317749     4022.336676  \n",
      "10               NaN   4034.100302     4034.069217     4034.088886  \n",
      "11               NaN   4045.852944     4045.820685     4045.841097  \n",
      "12               NaN   4057.605585     4057.572154     4057.593307  \n",
      "13               NaN   4069.358226     4069.323622     4069.345517  \n",
      "14               NaN   4081.110867     4081.075090     4081.097728  \n"
     ]
    },
    {
     "name": "stderr",
     "output_type": "stream",
     "text": [
      "C:\\Users\\prath\\anaconda3\\Lib\\site-packages\\sklearn\\base.py:493: UserWarning: X does not have valid feature names, but LinearRegression was fitted with feature names\n",
      "  warnings.warn(\n",
      "C:\\Users\\prath\\anaconda3\\Lib\\site-packages\\sklearn\\base.py:493: UserWarning: X does not have valid feature names, but Lasso was fitted with feature names\n",
      "  warnings.warn(\n",
      "C:\\Users\\prath\\anaconda3\\Lib\\site-packages\\sklearn\\base.py:493: UserWarning: X does not have valid feature names, but Ridge was fitted with feature names\n",
      "  warnings.warn(\n"
     ]
    }
   ],
   "source": [
    "#  Fit Regression Models:\n",
    "import numpy as np\n",
    "import pandas as pd\n",
    "from sklearn.linear_model import LinearRegression, Lasso, Ridge\n",
    "\n",
    "# Prepare time_series data\n",
    "time_series = taxis.groupby('date')['total'].sum().reset_index()\n",
    "\n",
    "# Create an index for days\n",
    "time_series['day_index'] = np.arange(len(time_series))\n",
    "\n",
    "# Models\n",
    "ols = LinearRegression()\n",
    "lasso = Lasso(alpha=0.1)\n",
    " ridge = Ridge(alpha=0.1)\n",
    "\n",
    "# Fit the models\n",
    "X = time_series[['day_index']]\n",
    "y = time_series['total']\n",
    "ols.fit(X, y)\n",
    "lasso.fit(X, y)\n",
    "ridge.fit(X, y)\n",
    "\n",
    "# Predictions for training data\n",
    "time_series['OLS_Prediction'] = ols.predict(X)\n",
    "time_series['Lasso_Prediction'] = lasso.predict(X)\n",
    "time_series['Ridge_Prediction'] = ridge.predict(X)\n",
    "\n",
    "# Forecast for the next 15 days\n",
    "forecast_days = np.arange(len(time_series), len(time_series) + 15).reshape(-1, 1)\n",
    "forecast_dates = pd.date_range(start=time_series['date'].iloc[-1] + pd.Timedelta(days=1), periods=15)\n",
    "\n",
    "# Forecast values\n",
    "forecast_ols = ols.predict(forecast_days)\n",
    "forecast_lasso = lasso.predict(forecast_days)\n",
    "forecast_ridge = ridge.predict(forecast_days)\n",
    "\n",
    "# Append forecasts to time_series\n",
    "forecast_df = pd.DataFrame({\n",
    "    'date': forecast_dates,\n",
    "    'OLS_Forecast': forecast_ols,\n",
    "    'Lasso_Forecast': forecast_lasso,\n",
    "    'Ridge_Forecast': forecast_ridge\n",
    "})\n",
    "\n",
    "# Concatenate training and forecast data\n",
    "time_series = pd.concat([time_series, forecast_df])\n",
    "\n",
    "# Display the results\n",
    "print(time_series)\n"
   ]
  },
  {
   "cell_type": "markdown",
   "id": "a608961c",
   "metadata": {},
   "source": [
    " - The code outlines the process of fitting regression models and making forecasts on time_series data.\n",
    " - It involves preparing the data, initializing and fitting the models, making predictions for training data, and forecasting for the next 15 days. \n",
    " - The code also creates a forecast dataframe, combining the training and forecast data, and displays the results.\n",
    " - This comprehensive approach allows for further analysis and visualization of trends and future predictions, ensuring a comprehensive understanding of the data."
   ]
  },
  {
   "cell_type": "markdown",
   "id": "ba7a9ab6",
   "metadata": {},
   "source": [
    "# 19. Prediction Plot"
   ]
  },
  {
   "cell_type": "code",
   "execution_count": 34,
   "id": "3c0584c9",
   "metadata": {},
   "outputs": [
    {
     "data": {
      "image/png": "[encoded data removed]",
      "text/plain": [
       "<Figure size 1200x600 with 1 Axes>"
      ]
     },
     "metadata": {},
     "output_type": "display_data"
    }
   ],
   "source": [
    "# Plot the true values and predictions in a single plot using (dates as x axis):\n",
    "#Have a different color for each prediction.\n",
    "#Label the axis, title, add legend etc.\n",
    "#Your x-axis should be date time objects.\n",
    "\n",
    "plt.figure(figsize=(12, 6))\n",
    "\n",
    "plt.plot(time_series['date'], time_series['total'], label='Actual', color='black', marker='o')\n",
    "\n",
    "# Plot predictions from each model\n",
    "plt.plot(time_series['date'], time_series['OLS_Prediction'], label='OLS Prediction', color='blue', linestyle='--')\n",
    "plt.plot(time_series['date'], time_series['Lasso_Prediction'], label='Lasso Prediction', color='green', linestyle='--')\n",
    "plt.plot(time_series['date'], time_series['Ridge_Prediction'], label='Ridge Prediction', color='red', linestyle='--')\n",
    "\n",
    "# Customize plot\n",
    "plt.xlabel('Date')\n",
    "plt.ylabel('Total Amount')\n",
    "plt.title('Actual vs Predicted Total Amounts')\n",
    "\n",
    "# Display plot\n",
    "plt.show()\n"
   ]
  },
  {
   "cell_type": "markdown",
   "id": "c23a8f83",
   "metadata": {},
   "source": [
    "- The code creates a line plot with black dots representing data points and colored dashed lines representing predictions from OLS, Lasso, and Ridge models, enhancing clarity and distinction."
   ]
  },
  {
   "cell_type": "markdown",
   "id": "258ac263",
   "metadata": {},
   "source": [
    "# 20. Error Calculations"
   ]
  },
  {
   "cell_type": "markdown",
   "id": "56a06dd6",
   "metadata": {},
   "source": [
    "- Calculate L1 Error for each prediction and add it as a new column (l1err = truth - prediction).\n",
    "- Calculate L2 Error for each prediction and add it as a new column (l2err = (truth - prediction)^2)."
   ]
  },
  {
   "cell_type": "code",
   "execution_count": 39,
   "id": "193c48c8",
   "metadata": {},
   "outputs": [],
   "source": [
    "# Predictions for training data\n",
    "time_series['OLS_Prediction'] = ols.predict(X)\n",
    "time_series['Lasso_Prediction'] = lasso.predict(X)\n",
    "time_series['Ridge_Prediction'] = ridge.predict(X)\n"
   ]
  },
  {
   "cell_type": "code",
   "execution_count": 40,
   "id": "fbcc69df",
   "metadata": {},
   "outputs": [
    {
     "data": {
      "text/html": [
       "<div>\n",
       "<style scoped>\n",
       "    .dataframe tbody tr th:only-of-type {\n",
       "        vertical-align: middle;\n",
       "    }\n",
       "\n",
       "    .dataframe tbody tr th {\n",
       "        vertical-align: top;\n",
       "    }\n",
       "\n",
       "    .dataframe thead th {\n",
       "        text-align: right;\n",
       "    }\n",
       "</style>\n",
       "<table border=\"1\" class=\"dataframe\">\n",
       "  <thead>\n",
       "    <tr style=\"text-align: right;\">\n",
       "      <th></th>\n",
       "      <th>date</th>\n",
       "      <th>total</th>\n",
       "      <th>day_index</th>\n",
       "      <th>OLS_Prediction</th>\n",
       "      <th>Lasso_Prediction</th>\n",
       "      <th>Ridge_Prediction</th>\n",
       "      <th>L1_Error_OLS</th>\n",
       "      <th>L1_Error_Lasso</th>\n",
       "      <th>L1_Error_Ridge</th>\n",
       "      <th>L2_Error_OLS</th>\n",
       "      <th>L2_Error_Lasso</th>\n",
       "      <th>L2_Error_Ridge</th>\n",
       "    </tr>\n",
       "  </thead>\n",
       "  <tbody>\n",
       "    <tr>\n",
       "      <th>0</th>\n",
       "      <td>2019-02-28</td>\n",
       "      <td>6.30</td>\n",
       "      <td>0</td>\n",
       "      <td>3540.489375</td>\n",
       "      <td>3540.507557</td>\n",
       "      <td>3540.496052</td>\n",
       "      <td>-3534.189375</td>\n",
       "      <td>-3534.207557</td>\n",
       "      <td>-3534.196052</td>\n",
       "      <td>1.249049e+07</td>\n",
       "      <td>1.249062e+07</td>\n",
       "      <td>1.249054e+07</td>\n",
       "    </tr>\n",
       "    <tr>\n",
       "      <th>1</th>\n",
       "      <td>2019-03-01</td>\n",
       "      <td>4213.83</td>\n",
       "      <td>1</td>\n",
       "      <td>3552.242016</td>\n",
       "      <td>3552.259025</td>\n",
       "      <td>3552.248263</td>\n",
       "      <td>661.587984</td>\n",
       "      <td>661.570975</td>\n",
       "      <td>661.581737</td>\n",
       "      <td>4.376987e+05</td>\n",
       "      <td>4.376762e+05</td>\n",
       "      <td>4.376904e+05</td>\n",
       "    </tr>\n",
       "    <tr>\n",
       "      <th>2</th>\n",
       "      <td>2019-03-02</td>\n",
       "      <td>3319.02</td>\n",
       "      <td>2</td>\n",
       "      <td>3563.994657</td>\n",
       "      <td>3564.010493</td>\n",
       "      <td>3564.000473</td>\n",
       "      <td>-244.974657</td>\n",
       "      <td>-244.990493</td>\n",
       "      <td>-244.980473</td>\n",
       "      <td>6.001258e+04</td>\n",
       "      <td>6.002034e+04</td>\n",
       "      <td>6.001543e+04</td>\n",
       "    </tr>\n",
       "    <tr>\n",
       "      <th>3</th>\n",
       "      <td>2019-03-03</td>\n",
       "      <td>3027.32</td>\n",
       "      <td>3</td>\n",
       "      <td>3575.747298</td>\n",
       "      <td>3575.761961</td>\n",
       "      <td>3575.752683</td>\n",
       "      <td>-548.427298</td>\n",
       "      <td>-548.441961</td>\n",
       "      <td>-548.432683</td>\n",
       "      <td>3.007725e+05</td>\n",
       "      <td>3.007886e+05</td>\n",
       "      <td>3.007784e+05</td>\n",
       "    </tr>\n",
       "    <tr>\n",
       "      <th>4</th>\n",
       "      <td>2019-03-04</td>\n",
       "      <td>3269.08</td>\n",
       "      <td>4</td>\n",
       "      <td>3587.499940</td>\n",
       "      <td>3587.513429</td>\n",
       "      <td>3587.504894</td>\n",
       "      <td>-318.419940</td>\n",
       "      <td>-318.433429</td>\n",
       "      <td>-318.424894</td>\n",
       "      <td>1.013913e+05</td>\n",
       "      <td>1.013998e+05</td>\n",
       "      <td>1.013944e+05</td>\n",
       "    </tr>\n",
       "    <tr>\n",
       "      <th>5</th>\n",
       "      <td>2019-03-05</td>\n",
       "      <td>4377.38</td>\n",
       "      <td>5</td>\n",
       "      <td>3599.252581</td>\n",
       "      <td>3599.264897</td>\n",
       "      <td>3599.257104</td>\n",
       "      <td>778.127419</td>\n",
       "      <td>778.115103</td>\n",
       "      <td>778.122896</td>\n",
       "      <td>6.054823e+05</td>\n",
       "      <td>6.054631e+05</td>\n",
       "      <td>6.054752e+05</td>\n",
       "    </tr>\n",
       "    <tr>\n",
       "      <th>6</th>\n",
       "      <td>2019-03-06</td>\n",
       "      <td>4673.61</td>\n",
       "      <td>6</td>\n",
       "      <td>3611.005222</td>\n",
       "      <td>3611.016365</td>\n",
       "      <td>3611.009314</td>\n",
       "      <td>1062.604778</td>\n",
       "      <td>1062.593635</td>\n",
       "      <td>1062.600686</td>\n",
       "      <td>1.129129e+06</td>\n",
       "      <td>1.129105e+06</td>\n",
       "      <td>1.129120e+06</td>\n",
       "    </tr>\n",
       "    <tr>\n",
       "      <th>7</th>\n",
       "      <td>2019-03-07</td>\n",
       "      <td>4115.70</td>\n",
       "      <td>7</td>\n",
       "      <td>3622.757863</td>\n",
       "      <td>3622.767834</td>\n",
       "      <td>3622.761525</td>\n",
       "      <td>492.942137</td>\n",
       "      <td>492.932166</td>\n",
       "      <td>492.938475</td>\n",
       "      <td>2.429920e+05</td>\n",
       "      <td>2.429821e+05</td>\n",
       "      <td>2.429883e+05</td>\n",
       "    </tr>\n",
       "    <tr>\n",
       "      <th>8</th>\n",
       "      <td>2019-03-08</td>\n",
       "      <td>4524.21</td>\n",
       "      <td>8</td>\n",
       "      <td>3634.510504</td>\n",
       "      <td>3634.519302</td>\n",
       "      <td>3634.513735</td>\n",
       "      <td>889.699496</td>\n",
       "      <td>889.690698</td>\n",
       "      <td>889.696265</td>\n",
       "      <td>7.915652e+05</td>\n",
       "      <td>7.915495e+05</td>\n",
       "      <td>7.915594e+05</td>\n",
       "    </tr>\n",
       "    <tr>\n",
       "      <th>9</th>\n",
       "      <td>2019-03-09</td>\n",
       "      <td>3785.80</td>\n",
       "      <td>9</td>\n",
       "      <td>3646.263145</td>\n",
       "      <td>3646.270770</td>\n",
       "      <td>3646.265945</td>\n",
       "      <td>139.536855</td>\n",
       "      <td>139.529230</td>\n",
       "      <td>139.534055</td>\n",
       "      <td>1.947053e+04</td>\n",
       "      <td>1.946841e+04</td>\n",
       "      <td>1.946975e+04</td>\n",
       "    </tr>\n",
       "    <tr>\n",
       "      <th>10</th>\n",
       "      <td>2019-03-10</td>\n",
       "      <td>3198.69</td>\n",
       "      <td>10</td>\n",
       "      <td>3658.015786</td>\n",
       "      <td>3658.022238</td>\n",
       "      <td>3658.018156</td>\n",
       "      <td>-459.325786</td>\n",
       "      <td>-459.332238</td>\n",
       "      <td>-459.328156</td>\n",
       "      <td>2.109802e+05</td>\n",
       "      <td>2.109861e+05</td>\n",
       "      <td>2.109824e+05</td>\n",
       "    </tr>\n",
       "    <tr>\n",
       "      <th>11</th>\n",
       "      <td>2019-03-11</td>\n",
       "      <td>4021.26</td>\n",
       "      <td>11</td>\n",
       "      <td>3669.768427</td>\n",
       "      <td>3669.773706</td>\n",
       "      <td>3669.770366</td>\n",
       "      <td>351.491573</td>\n",
       "      <td>351.486294</td>\n",
       "      <td>351.489634</td>\n",
       "      <td>1.235463e+05</td>\n",
       "      <td>1.235426e+05</td>\n",
       "      <td>1.235450e+05</td>\n",
       "    </tr>\n",
       "    <tr>\n",
       "      <th>12</th>\n",
       "      <td>2019-03-12</td>\n",
       "      <td>3875.80</td>\n",
       "      <td>12</td>\n",
       "      <td>3681.521069</td>\n",
       "      <td>3681.525174</td>\n",
       "      <td>3681.522576</td>\n",
       "      <td>194.278931</td>\n",
       "      <td>194.274826</td>\n",
       "      <td>194.277424</td>\n",
       "      <td>3.774430e+04</td>\n",
       "      <td>3.774271e+04</td>\n",
       "      <td>3.774372e+04</td>\n",
       "    </tr>\n",
       "    <tr>\n",
       "      <th>13</th>\n",
       "      <td>2019-03-13</td>\n",
       "      <td>4868.06</td>\n",
       "      <td>13</td>\n",
       "      <td>3693.273710</td>\n",
       "      <td>3693.276642</td>\n",
       "      <td>3693.274787</td>\n",
       "      <td>1174.786290</td>\n",
       "      <td>1174.783358</td>\n",
       "      <td>1174.785213</td>\n",
       "      <td>1.380123e+06</td>\n",
       "      <td>1.380116e+06</td>\n",
       "      <td>1.380120e+06</td>\n",
       "    </tr>\n",
       "    <tr>\n",
       "      <th>14</th>\n",
       "      <td>2019-03-14</td>\n",
       "      <td>4742.55</td>\n",
       "      <td>14</td>\n",
       "      <td>3705.026351</td>\n",
       "      <td>3705.028110</td>\n",
       "      <td>3705.026997</td>\n",
       "      <td>1037.523649</td>\n",
       "      <td>1037.521890</td>\n",
       "      <td>1037.523003</td>\n",
       "      <td>1.076455e+06</td>\n",
       "      <td>1.076452e+06</td>\n",
       "      <td>1.076454e+06</td>\n",
       "    </tr>\n",
       "    <tr>\n",
       "      <th>15</th>\n",
       "      <td>2019-03-15</td>\n",
       "      <td>4030.29</td>\n",
       "      <td>15</td>\n",
       "      <td>3716.778992</td>\n",
       "      <td>3716.779578</td>\n",
       "      <td>3716.779207</td>\n",
       "      <td>313.511008</td>\n",
       "      <td>313.510422</td>\n",
       "      <td>313.510793</td>\n",
       "      <td>9.828915e+04</td>\n",
       "      <td>9.828878e+04</td>\n",
       "      <td>9.828902e+04</td>\n",
       "    </tr>\n",
       "    <tr>\n",
       "      <th>16</th>\n",
       "      <td>2019-03-16</td>\n",
       "      <td>3836.58</td>\n",
       "      <td>16</td>\n",
       "      <td>3728.531633</td>\n",
       "      <td>3728.531047</td>\n",
       "      <td>3728.531418</td>\n",
       "      <td>108.048367</td>\n",
       "      <td>108.048953</td>\n",
       "      <td>108.048582</td>\n",
       "      <td>1.167445e+04</td>\n",
       "      <td>1.167458e+04</td>\n",
       "      <td>1.167450e+04</td>\n",
       "    </tr>\n",
       "    <tr>\n",
       "      <th>17</th>\n",
       "      <td>2019-03-17</td>\n",
       "      <td>3469.50</td>\n",
       "      <td>17</td>\n",
       "      <td>3740.284274</td>\n",
       "      <td>3740.282515</td>\n",
       "      <td>3740.283628</td>\n",
       "      <td>-270.784274</td>\n",
       "      <td>-270.782515</td>\n",
       "      <td>-270.783628</td>\n",
       "      <td>7.332412e+04</td>\n",
       "      <td>7.332317e+04</td>\n",
       "      <td>7.332377e+04</td>\n",
       "    </tr>\n",
       "    <tr>\n",
       "      <th>18</th>\n",
       "      <td>2019-03-18</td>\n",
       "      <td>3258.78</td>\n",
       "      <td>18</td>\n",
       "      <td>3752.036915</td>\n",
       "      <td>3752.033983</td>\n",
       "      <td>3752.035838</td>\n",
       "      <td>-493.256915</td>\n",
       "      <td>-493.253983</td>\n",
       "      <td>-493.255838</td>\n",
       "      <td>2.433024e+05</td>\n",
       "      <td>2.432995e+05</td>\n",
       "      <td>2.433013e+05</td>\n",
       "    </tr>\n",
       "    <tr>\n",
       "      <th>19</th>\n",
       "      <td>2019-03-19</td>\n",
       "      <td>3963.92</td>\n",
       "      <td>19</td>\n",
       "      <td>3763.789556</td>\n",
       "      <td>3763.785451</td>\n",
       "      <td>3763.788049</td>\n",
       "      <td>200.130444</td>\n",
       "      <td>200.134549</td>\n",
       "      <td>200.131951</td>\n",
       "      <td>4.005219e+04</td>\n",
       "      <td>4.005384e+04</td>\n",
       "      <td>4.005280e+04</td>\n",
       "    </tr>\n",
       "    <tr>\n",
       "      <th>20</th>\n",
       "      <td>2019-03-20</td>\n",
       "      <td>4522.95</td>\n",
       "      <td>20</td>\n",
       "      <td>3775.542198</td>\n",
       "      <td>3775.536919</td>\n",
       "      <td>3775.540259</td>\n",
       "      <td>747.407802</td>\n",
       "      <td>747.413081</td>\n",
       "      <td>747.409741</td>\n",
       "      <td>5.586184e+05</td>\n",
       "      <td>5.586263e+05</td>\n",
       "      <td>5.586213e+05</td>\n",
       "    </tr>\n",
       "    <tr>\n",
       "      <th>21</th>\n",
       "      <td>2019-03-21</td>\n",
       "      <td>4355.08</td>\n",
       "      <td>21</td>\n",
       "      <td>3787.294839</td>\n",
       "      <td>3787.288387</td>\n",
       "      <td>3787.292469</td>\n",
       "      <td>567.785161</td>\n",
       "      <td>567.791613</td>\n",
       "      <td>567.787531</td>\n",
       "      <td>3.223800e+05</td>\n",
       "      <td>3.223873e+05</td>\n",
       "      <td>3.223827e+05</td>\n",
       "    </tr>\n",
       "    <tr>\n",
       "      <th>22</th>\n",
       "      <td>2019-03-22</td>\n",
       "      <td>4245.36</td>\n",
       "      <td>22</td>\n",
       "      <td>3799.047480</td>\n",
       "      <td>3799.039855</td>\n",
       "      <td>3799.044680</td>\n",
       "      <td>446.312520</td>\n",
       "      <td>446.320145</td>\n",
       "      <td>446.315320</td>\n",
       "      <td>1.991949e+05</td>\n",
       "      <td>1.992017e+05</td>\n",
       "      <td>1.991974e+05</td>\n",
       "    </tr>\n",
       "    <tr>\n",
       "      <th>23</th>\n",
       "      <td>2019-03-23</td>\n",
       "      <td>3355.98</td>\n",
       "      <td>23</td>\n",
       "      <td>3810.800121</td>\n",
       "      <td>3810.791323</td>\n",
       "      <td>3810.796890</td>\n",
       "      <td>-454.820121</td>\n",
       "      <td>-454.811323</td>\n",
       "      <td>-454.816890</td>\n",
       "      <td>2.068613e+05</td>\n",
       "      <td>2.068533e+05</td>\n",
       "      <td>2.068584e+05</td>\n",
       "    </tr>\n",
       "    <tr>\n",
       "      <th>24</th>\n",
       "      <td>2019-03-24</td>\n",
       "      <td>2616.81</td>\n",
       "      <td>24</td>\n",
       "      <td>3822.552762</td>\n",
       "      <td>3822.542791</td>\n",
       "      <td>3822.549100</td>\n",
       "      <td>-1205.742762</td>\n",
       "      <td>-1205.732791</td>\n",
       "      <td>-1205.739100</td>\n",
       "      <td>1.453816e+06</td>\n",
       "      <td>1.453792e+06</td>\n",
       "      <td>1.453807e+06</td>\n",
       "    </tr>\n",
       "    <tr>\n",
       "      <th>25</th>\n",
       "      <td>2019-03-25</td>\n",
       "      <td>2877.55</td>\n",
       "      <td>25</td>\n",
       "      <td>3834.305403</td>\n",
       "      <td>3834.294260</td>\n",
       "      <td>3834.301311</td>\n",
       "      <td>-956.755403</td>\n",
       "      <td>-956.744260</td>\n",
       "      <td>-956.751311</td>\n",
       "      <td>9.153809e+05</td>\n",
       "      <td>9.153596e+05</td>\n",
       "      <td>9.153731e+05</td>\n",
       "    </tr>\n",
       "    <tr>\n",
       "      <th>26</th>\n",
       "      <td>2019-03-26</td>\n",
       "      <td>3366.20</td>\n",
       "      <td>26</td>\n",
       "      <td>3846.058044</td>\n",
       "      <td>3846.045728</td>\n",
       "      <td>3846.053521</td>\n",
       "      <td>-479.858044</td>\n",
       "      <td>-479.845728</td>\n",
       "      <td>-479.853521</td>\n",
       "      <td>2.302637e+05</td>\n",
       "      <td>2.302519e+05</td>\n",
       "      <td>2.302594e+05</td>\n",
       "    </tr>\n",
       "    <tr>\n",
       "      <th>27</th>\n",
       "      <td>2019-03-27</td>\n",
       "      <td>4417.17</td>\n",
       "      <td>27</td>\n",
       "      <td>3857.810685</td>\n",
       "      <td>3857.797196</td>\n",
       "      <td>3857.805731</td>\n",
       "      <td>559.359315</td>\n",
       "      <td>559.372804</td>\n",
       "      <td>559.364269</td>\n",
       "      <td>3.128828e+05</td>\n",
       "      <td>3.128979e+05</td>\n",
       "      <td>3.128884e+05</td>\n",
       "    </tr>\n",
       "    <tr>\n",
       "      <th>28</th>\n",
       "      <td>2019-03-28</td>\n",
       "      <td>3886.44</td>\n",
       "      <td>28</td>\n",
       "      <td>3869.563327</td>\n",
       "      <td>3869.548664</td>\n",
       "      <td>3869.557942</td>\n",
       "      <td>16.876673</td>\n",
       "      <td>16.891336</td>\n",
       "      <td>16.882058</td>\n",
       "      <td>2.848221e+02</td>\n",
       "      <td>2.853172e+02</td>\n",
       "      <td>2.850039e+02</td>\n",
       "    </tr>\n",
       "    <tr>\n",
       "      <th>29</th>\n",
       "      <td>2019-03-29</td>\n",
       "      <td>3790.52</td>\n",
       "      <td>29</td>\n",
       "      <td>3881.315968</td>\n",
       "      <td>3881.300132</td>\n",
       "      <td>3881.310152</td>\n",
       "      <td>-90.795968</td>\n",
       "      <td>-90.780132</td>\n",
       "      <td>-90.790152</td>\n",
       "      <td>8.243908e+03</td>\n",
       "      <td>8.241032e+03</td>\n",
       "      <td>8.242852e+03</td>\n",
       "    </tr>\n",
       "    <tr>\n",
       "      <th>30</th>\n",
       "      <td>2019-03-30</td>\n",
       "      <td>4004.39</td>\n",
       "      <td>30</td>\n",
       "      <td>3893.068609</td>\n",
       "      <td>3893.051600</td>\n",
       "      <td>3893.062362</td>\n",
       "      <td>111.321391</td>\n",
       "      <td>111.338400</td>\n",
       "      <td>111.327638</td>\n",
       "      <td>1.239245e+04</td>\n",
       "      <td>1.239624e+04</td>\n",
       "      <td>1.239384e+04</td>\n",
       "    </tr>\n",
       "    <tr>\n",
       "      <th>31</th>\n",
       "      <td>2019-03-31</td>\n",
       "      <td>3108.84</td>\n",
       "      <td>31</td>\n",
       "      <td>3904.821250</td>\n",
       "      <td>3904.803068</td>\n",
       "      <td>3904.814573</td>\n",
       "      <td>-795.981250</td>\n",
       "      <td>-795.963068</td>\n",
       "      <td>-795.974573</td>\n",
       "      <td>6.335862e+05</td>\n",
       "      <td>6.335572e+05</td>\n",
       "      <td>6.335755e+05</td>\n",
       "    </tr>\n",
       "  </tbody>\n",
       "</table>\n",
       "</div>"
      ],
      "text/plain": [
       "          date    total  day_index  OLS_Prediction  Lasso_Prediction  \\\n",
       "0   2019-02-28     6.30          0     3540.489375       3540.507557   \n",
       "1   2019-03-01  4213.83          1     3552.242016       3552.259025   \n",
       "2   2019-03-02  3319.02          2     3563.994657       3564.010493   \n",
       "3   2019-03-03  3027.32          3     3575.747298       3575.761961   \n",
       "4   2019-03-04  3269.08          4     3587.499940       3587.513429   \n",
       "5   2019-03-05  4377.38          5     3599.252581       3599.264897   \n",
       "6   2019-03-06  4673.61          6     3611.005222       3611.016365   \n",
       "7   2019-03-07  4115.70          7     3622.757863       3622.767834   \n",
       "8   2019-03-08  4524.21          8     3634.510504       3634.519302   \n",
       "9   2019-03-09  3785.80          9     3646.263145       3646.270770   \n",
       "10  2019-03-10  3198.69         10     3658.015786       3658.022238   \n",
       "11  2019-03-11  4021.26         11     3669.768427       3669.773706   \n",
       "12  2019-03-12  3875.80         12     3681.521069       3681.525174   \n",
       "13  2019-03-13  4868.06         13     3693.273710       3693.276642   \n",
       "14  2019-03-14  4742.55         14     3705.026351       3705.028110   \n",
       "15  2019-03-15  4030.29         15     3716.778992       3716.779578   \n",
       "16  2019-03-16  3836.58         16     3728.531633       3728.531047   \n",
       "17  2019-03-17  3469.50         17     3740.284274       3740.282515   \n",
       "18  2019-03-18  3258.78         18     3752.036915       3752.033983   \n",
       "19  2019-03-19  3963.92         19     3763.789556       3763.785451   \n",
       "20  2019-03-20  4522.95         20     3775.542198       3775.536919   \n",
       "21  2019-03-21  4355.08         21     3787.294839       3787.288387   \n",
       "22  2019-03-22  4245.36         22     3799.047480       3799.039855   \n",
       "23  2019-03-23  3355.98         23     3810.800121       3810.791323   \n",
       "24  2019-03-24  2616.81         24     3822.552762       3822.542791   \n",
       "25  2019-03-25  2877.55         25     3834.305403       3834.294260   \n",
       "26  2019-03-26  3366.20         26     3846.058044       3846.045728   \n",
       "27  2019-03-27  4417.17         27     3857.810685       3857.797196   \n",
       "28  2019-03-28  3886.44         28     3869.563327       3869.548664   \n",
       "29  2019-03-29  3790.52         29     3881.315968       3881.300132   \n",
       "30  2019-03-30  4004.39         30     3893.068609       3893.051600   \n",
       "31  2019-03-31  3108.84         31     3904.821250       3904.803068   \n",
       "\n",
       "    Ridge_Prediction  L1_Error_OLS  L1_Error_Lasso  L1_Error_Ridge  \\\n",
       "0        3540.496052  -3534.189375    -3534.207557    -3534.196052   \n",
       "1        3552.248263    661.587984      661.570975      661.581737   \n",
       "2        3564.000473   -244.974657     -244.990493     -244.980473   \n",
       "3        3575.752683   -548.427298     -548.441961     -548.432683   \n",
       "4        3587.504894   -318.419940     -318.433429     -318.424894   \n",
       "5        3599.257104    778.127419      778.115103      778.122896   \n",
       "6        3611.009314   1062.604778     1062.593635     1062.600686   \n",
       "7        3622.761525    492.942137      492.932166      492.938475   \n",
       "8        3634.513735    889.699496      889.690698      889.696265   \n",
       "9        3646.265945    139.536855      139.529230      139.534055   \n",
       "10       3658.018156   -459.325786     -459.332238     -459.328156   \n",
       "11       3669.770366    351.491573      351.486294      351.489634   \n",
       "12       3681.522576    194.278931      194.274826      194.277424   \n",
       "13       3693.274787   1174.786290     1174.783358     1174.785213   \n",
       "14       3705.026997   1037.523649     1037.521890     1037.523003   \n",
       "15       3716.779207    313.511008      313.510422      313.510793   \n",
       "16       3728.531418    108.048367      108.048953      108.048582   \n",
       "17       3740.283628   -270.784274     -270.782515     -270.783628   \n",
       "18       3752.035838   -493.256915     -493.253983     -493.255838   \n",
       "19       3763.788049    200.130444      200.134549      200.131951   \n",
       "20       3775.540259    747.407802      747.413081      747.409741   \n",
       "21       3787.292469    567.785161      567.791613      567.787531   \n",
       "22       3799.044680    446.312520      446.320145      446.315320   \n",
       "23       3810.796890   -454.820121     -454.811323     -454.816890   \n",
       "24       3822.549100  -1205.742762    -1205.732791    -1205.739100   \n",
       "25       3834.301311   -956.755403     -956.744260     -956.751311   \n",
       "26       3846.053521   -479.858044     -479.845728     -479.853521   \n",
       "27       3857.805731    559.359315      559.372804      559.364269   \n",
       "28       3869.557942     16.876673       16.891336       16.882058   \n",
       "29       3881.310152    -90.795968      -90.780132      -90.790152   \n",
       "30       3893.062362    111.321391      111.338400      111.327638   \n",
       "31       3904.814573   -795.981250     -795.963068     -795.974573   \n",
       "\n",
       "    L2_Error_OLS  L2_Error_Lasso  L2_Error_Ridge  \n",
       "0   1.249049e+07    1.249062e+07    1.249054e+07  \n",
       "1   4.376987e+05    4.376762e+05    4.376904e+05  \n",
       "2   6.001258e+04    6.002034e+04    6.001543e+04  \n",
       "3   3.007725e+05    3.007886e+05    3.007784e+05  \n",
       "4   1.013913e+05    1.013998e+05    1.013944e+05  \n",
       "5   6.054823e+05    6.054631e+05    6.054752e+05  \n",
       "6   1.129129e+06    1.129105e+06    1.129120e+06  \n",
       "7   2.429920e+05    2.429821e+05    2.429883e+05  \n",
       "8   7.915652e+05    7.915495e+05    7.915594e+05  \n",
       "9   1.947053e+04    1.946841e+04    1.946975e+04  \n",
       "10  2.109802e+05    2.109861e+05    2.109824e+05  \n",
       "11  1.235463e+05    1.235426e+05    1.235450e+05  \n",
       "12  3.774430e+04    3.774271e+04    3.774372e+04  \n",
       "13  1.380123e+06    1.380116e+06    1.380120e+06  \n",
       "14  1.076455e+06    1.076452e+06    1.076454e+06  \n",
       "15  9.828915e+04    9.828878e+04    9.828902e+04  \n",
       "16  1.167445e+04    1.167458e+04    1.167450e+04  \n",
       "17  7.332412e+04    7.332317e+04    7.332377e+04  \n",
       "18  2.433024e+05    2.432995e+05    2.433013e+05  \n",
       "19  4.005219e+04    4.005384e+04    4.005280e+04  \n",
       "20  5.586184e+05    5.586263e+05    5.586213e+05  \n",
       "21  3.223800e+05    3.223873e+05    3.223827e+05  \n",
       "22  1.991949e+05    1.992017e+05    1.991974e+05  \n",
       "23  2.068613e+05    2.068533e+05    2.068584e+05  \n",
       "24  1.453816e+06    1.453792e+06    1.453807e+06  \n",
       "25  9.153809e+05    9.153596e+05    9.153731e+05  \n",
       "26  2.302637e+05    2.302519e+05    2.302594e+05  \n",
       "27  3.128828e+05    3.128979e+05    3.128884e+05  \n",
       "28  2.848221e+02    2.853172e+02    2.850039e+02  \n",
       "29  8.243908e+03    8.241032e+03    8.242852e+03  \n",
       "30  1.239245e+04    1.239624e+04    1.239384e+04  \n",
       "31  6.335862e+05    6.335572e+05    6.335755e+05  "
      ]
     },
     "execution_count": 40,
     "metadata": {},
     "output_type": "execute_result"
    }
   ],
   "source": [
    "# Calculate L1 Error (Absolute Error)\n",
    "\n",
    "time_series['L1_Error_OLS'] = time_series['total'] - time_series['OLS_Prediction']\n",
    "time_series['L1_Error_Lasso'] = time_series['total'] - time_series['Lasso_Prediction']\n",
    "time_series['L1_Error_Ridge'] = time_series['total'] - time_series['Ridge_Prediction']\n",
    "\n",
    "# Calculate L2 Error (Squared Error)\n",
    "time_series['L2_Error_OLS'] = (time_series['total'] - time_series['OLS_Prediction']) ** 2\n",
    "time_series['L2_Error_Lasso'] = (time_series['total'] - time_series['Lasso_Prediction']) ** 2\n",
    "time_series['L2_Error_Ridge'] = (time_series['total'] - time_series['Ridge_Prediction']) ** 2  \n",
    "\n",
    "time_series"
   ]
  },
  {
   "cell_type": "markdown",
   "id": "bb092593",
   "metadata": {},
   "source": [
    "- The code calculates L1 and L2 error metrics for three different prediction models: Ordinary Least Squares (OLS), Lasso Regression, and Ridge Regression.\n",
    "- Creates new columns in time_series to store these metrics, allowing easy analysis and comparison of model performance in terms of absolute and squared errors."
   ]
  },
  {
   "cell_type": "markdown",
   "id": "c3a10138",
   "metadata": {},
   "source": [
    "# 21. Scatter Plot of Predicted vs. L1 Error"
   ]
  },
  {
   "cell_type": "code",
   "execution_count": 41,
   "id": "37d3c26e",
   "metadata": {},
   "outputs": [
    {
     "data": {
      "text/plain": [
       "Text(0.5, 1.0, 'Scatter Plot of Predicted Values vs. L1 Error (OLS)')"
      ]
     },
     "execution_count": 41,
     "metadata": {},
     "output_type": "execute_result"
    },
    {
     "data": {
      "image/png": "[encoded data removed]",
      "text/plain": [
       "<Figure size 640x480 with 1 Axes>"
      ]
     },
     "metadata": {},
     "output_type": "display_data"
    }
   ],
   "source": [
    "# Create a scatter plot with predicted values (x-axis) and L1 error (y-axis) for the linear model.\n",
    "#Discuss what this plot indicates about heteroskedasticity.\n",
    "\n",
    "plt.scatter(time_series['OLS_Prediction'], time_series['L1_Error_OLS'], color='blue')\n",
    "plt.xlabel('Predicted Values (OLS)')\n",
    "plt.ylabel('L1 Error (Absolute Error)')\n",
    "plt.title('Scatter Plot of Predicted Values vs. L1 Error (OLS)')\n"
   ]
  },
  {
   "cell_type": "markdown",
   "id": "bd818d1e",
   "metadata": {},
   "source": [
    "- This code creates a scatter plot to visualize the relationship between predicted values from the OLS regression model and the L1 error for each observation in the dataset. \n",
    "- Heteroskedasticity is a situation in regression analysis where the variance of errors is not constant across all levels of the independent variable(s). "
   ]
  },
  {
   "cell_type": "markdown",
   "id": "d1fc2874",
   "metadata": {},
   "source": [
    "# 22. Autocorrelation for Lags:"
   ]
  },
  {
   "cell_type": "code",
   "execution_count": 43,
   "id": "b01d0cd0",
   "metadata": {},
   "outputs": [
    {
     "name": "stdout",
     "output_type": "stream",
     "text": [
      "Autocorrelations for lags 1 to 8: [0.20653551659617914, 0.07954604313527525, -0.0736141971661062, -0.22029729386577557, -0.18367873209831348, 0.011100303502367464, 0.32918170014495735, 0.09554145227151858]\n",
      "Strongest autocorrelation at lag: 7\n",
      "Weakest autocorrelation at lag: 4\n"
     ]
    }
   ],
   "source": [
    "# Compute autocorrelation values for lags from 1 to 8 for time_series. Identify the lag with the strongest and weakest autocorrelation.\n",
    "\n",
    "autocorrelations = [time_series['total'].autocorr(lag) for lag in range(1, 9)]\n",
    "\n",
    "strongest_lag = autocorrelations.index(max(autocorrelations)) + 1\n",
    "weakest_lag = autocorrelations.index(min(autocorrelations)) + 1\n",
    "\n",
    "\n",
    "print(\"Autocorrelations for lags 1 to 8:\", autocorrelations)\n",
    "print(\"Strongest autocorrelation at lag:\", strongest_lag)\n",
    "print(\"Weakest autocorrelation at lag:\", weakest_lag)\n"
   ]
  },
  {
   "cell_type": "markdown",
   "id": "5364611c",
   "metadata": {},
   "source": [
    "- The strongest autocorrelation indicates a highly correlated current value with the value at that lag, suggesting a periodic or repeating pattern. \n",
    "- The weakest autocorrelation indicates very little or no correlation with the current value, suggesting a random or less predictable behavior. \n",
    "- Analyzing autocorrelation values helps understand the time-dependent structure of data and informs decisions about model selection."
   ]
  },
  {
   "cell_type": "markdown",
   "id": "4ad7e9ba",
   "metadata": {},
   "source": [
    "# Q23\n",
    "Training a model on the entire dataset is not recommended due to overfitting, but can be acceptable in time series forecasting if not evaluating performance on unseen data or if the dataset is small."
   ]
  },
  {
   "cell_type": "markdown",
   "id": "8a5d95ff",
   "metadata": {},
   "source": [
    "# SQL"
   ]
  },
  {
   "cell_type": "code",
   "execution_count": 44,
   "id": "486c41b0",
   "metadata": {},
   "outputs": [
    {
     "name": "stdout",
     "output_type": "stream",
     "text": [
      "Requirement already satisfied: duckdb in c:\\users\\prath\\anaconda3\\lib\\site-packages (1.1.3)\n",
      "Requirement already satisfied: seaborn in c:\\users\\prath\\anaconda3\\lib\\site-packages (0.12.2)\n",
      "Requirement already satisfied: numpy!=1.24.0,>=1.17 in c:\\users\\prath\\anaconda3\\lib\\site-packages (from seaborn) (1.24.3)\n",
      "Requirement already satisfied: pandas>=0.25 in c:\\users\\prath\\anaconda3\\lib\\site-packages (from seaborn) (2.0.3)\n",
      "Requirement already satisfied: matplotlib!=3.6.1,>=3.1 in c:\\users\\prath\\anaconda3\\lib\\site-packages (from seaborn) (3.7.2)\n",
      "Requirement already satisfied: contourpy>=1.0.1 in c:\\users\\prath\\anaconda3\\lib\\site-packages (from matplotlib!=3.6.1,>=3.1->seaborn) (1.0.5)\n",
      "Requirement already satisfied: cycler>=0.10 in c:\\users\\prath\\anaconda3\\lib\\site-packages (from matplotlib!=3.6.1,>=3.1->seaborn) (0.11.0)\n",
      "Requirement already satisfied: fonttools>=4.22.0 in c:\\users\\prath\\anaconda3\\lib\\site-packages (from matplotlib!=3.6.1,>=3.1->seaborn) (4.25.0)\n",
      "Requirement already satisfied: kiwisolver>=1.0.1 in c:\\users\\prath\\anaconda3\\lib\\site-packages (from matplotlib!=3.6.1,>=3.1->seaborn) (1.4.4)\n",
      "Requirement already satisfied: packaging>=20.0 in c:\\users\\prath\\anaconda3\\lib\\site-packages (from matplotlib!=3.6.1,>=3.1->seaborn) (23.1)\n",
      "Requirement already satisfied: pillow>=6.2.0 in c:\\users\\prath\\anaconda3\\lib\\site-packages (from matplotlib!=3.6.1,>=3.1->seaborn) (9.4.0)\n",
      "Requirement already satisfied: pyparsing<3.1,>=2.3.1 in c:\\users\\prath\\anaconda3\\lib\\site-packages (from matplotlib!=3.6.1,>=3.1->seaborn) (3.0.9)\n",
      "Requirement already satisfied: python-dateutil>=2.7 in c:\\users\\prath\\anaconda3\\lib\\site-packages (from matplotlib!=3.6.1,>=3.1->seaborn) (2.8.2)\n",
      "Requirement already satisfied: pytz>=2020.1 in c:\\users\\prath\\anaconda3\\lib\\site-packages (from pandas>=0.25->seaborn) (2023.3.post1)\n",
      "Requirement already satisfied: tzdata>=2022.1 in c:\\users\\prath\\anaconda3\\lib\\site-packages (from pandas>=0.25->seaborn) (2023.3)\n",
      "Requirement already satisfied: six>=1.5 in c:\\users\\prath\\anaconda3\\lib\\site-packages (from python-dateutil>=2.7->matplotlib!=3.6.1,>=3.1->seaborn) (1.16.0)\n",
      "Note: you may need to restart the kernel to use updated packages.\n"
     ]
    }
   ],
   "source": [
    "pip install duckdb seaborn"
   ]
  },
  {
   "cell_type": "code",
   "execution_count": 48,
   "id": "497b4e85",
   "metadata": {},
   "outputs": [
    {
     "data": {
      "text/plain": [
       "<duckdb.duckdb.DuckDBPyConnection at 0x1a579488c70>"
      ]
     },
     "execution_count": 48,
     "metadata": {},
     "output_type": "execute_result"
    }
   ],
   "source": [
    "import duckdb\n",
    "\n",
    "con = duckdb.connect()\n",
    "con.register('taxis_table', taxis)"
   ]
  },
  {
   "cell_type": "markdown",
   "id": "7f75092a",
   "metadata": {},
   "source": [
    "# Q24 Write a query to return the third largest total from the entire table using both row_number and Common Table Expression together."
   ]
  },
  {
   "cell_type": "code",
   "execution_count": 54,
   "id": "a65e9ea8",
   "metadata": {},
   "outputs": [
    {
     "name": "stdout",
     "output_type": "stream",
     "text": [
      "[(166.0,)]\n"
     ]
    }
   ],
   "source": [
    "rownum = \"\"\"\n",
    "WITH taxisranked AS (\n",
    "    SELECT total, ROW_NUMBER() OVER (ORDER BY total DESC) AS rn\n",
    "    FROM taxis_table\n",
    ")\n",
    "SELECT total\n",
    "FROM taxisranked\n",
    "WHERE rn = 3;\n",
    "\"\"\"\n",
    "\n",
    "# Execute the query in DuckDB\n",
    "q24 = con.execute(rownum).fetchall()\n",
    "print(q24)\n"
   ]
  },
  {
   "cell_type": "markdown",
   "id": "b83f8cd3",
   "metadata": {},
   "source": [
    "- This code executes an SQL query in DuckDB to retrieve the 3rd highest value from the total column in the taxis_table.\n",
    "- The query uses a Common Table Expression (CTE) to rank the rows by the total column in descending order. \n",
    "- The main query selects the total value where the row number (rn) is 3, corresponding to the 3rd highest value in the total column."
   ]
  },
  {
   "cell_type": "markdown",
   "id": "c412d54d",
   "metadata": {},
   "source": [
    "# Q25 Do the same as above, but this time use dense_rank instead of row_number and explain the difference. Which one is more correct, why?"
   ]
  },
  {
   "cell_type": "code",
   "execution_count": 55,
   "id": "6b712c96",
   "metadata": {},
   "outputs": [
    {
     "name": "stdout",
     "output_type": "stream",
     "text": [
      "[(166.0,)]\n"
     ]
    }
   ],
   "source": [
    "denserank = \"\"\"WITH taxisranked AS (\n",
    "    SELECT total, DENSE_RANK() OVER (ORDER BY total DESC) AS dr\n",
    "    FROM taxis_table\n",
    ")\n",
    "SELECT total\n",
    "FROM taxisranked\n",
    "WHERE dr = 3;\"\"\""
   ]
  },
  {
   "cell_type": "markdown",
   "id": "7c427096",
   "metadata": {},
   "source": [
    "- Row_NUMBER() assigns a unique number to each row, regardless of ties, while DENSE_RANK() does not skip rank values for ties. \n",
    "- If two rows have the same total, they receive the same rank, and the next row will have the next consecutive rank. \n",
    "- The choice between ROW_NUMBER() and DENSE_RANK() depends on the context. \n",
    "- ROW_NUMBER() is used when unique ranking is desired, even with ties in the data, while DENSE_RANK() is used when ties do not cause gaps in the ranking. \n",
    "- DENSE_RANK() is generally preferred for situations where exact value position and ties are handled naturally, offering a more intuitive ranking system."
   ]
  },
  {
   "cell_type": "markdown",
   "id": "2867540b",
   "metadata": {},
   "source": [
    "# Q26 Tell me the sum total for each pickup_borough call it pickup_borough_sum_total. Filter for pickup_borough_sum_total > 1000"
   ]
  },
  {
   "cell_type": "code",
   "execution_count": 56,
   "id": "e6843dfb",
   "metadata": {},
   "outputs": [
    {
     "name": "stdout",
     "output_type": "stream",
     "text": [
      "[('Queens', 20800.689999999828), ('Manhattan', 87820.23000000409), ('Bronx', 2253.7599999999993), ('Brooklyn', 7367.480000000031)]\n"
     ]
    }
   ],
   "source": [
    "filterquery = \"\"\"\n",
    "    SELECT pickup_borough, SUM(total) AS pickup_borough_sum_total\n",
    "    FROM taxis_table\n",
    "    GROUP BY pickup_borough\n",
    "    HAVING SUM(total) > 1000;\n",
    "\"\"\"\n",
    "\n",
    "# Display the result\n",
    "q26 =  con.execute(filterquery).fetchall()\n",
    "print(q26)"
   ]
  },
  {
   "cell_type": "markdown",
   "id": "29c7bd94",
   "metadata": {},
   "source": [
    "- This code uses an SQL query in DuckDB to filter and aggregate data from the taxis_table, summing the total values by pickup_borough and filtering out boroughs with a sum of 1000 or less.\n",
    "- The filterquery selects the pickup_borough column and calculates the sum of the total for each borough. \n",
    "- The HAVING clause filters out boroughs with a sum of 1000 or less, resulting in a list of tuples with the highest total values."
   ]
  },
  {
   "cell_type": "markdown",
   "id": "33075f98",
   "metadata": {},
   "source": [
    "# 27. Filter for total > 10 then do sum total for each pickup_borough call it pickup_borough_sum_total."
   ]
  },
  {
   "cell_type": "code",
   "execution_count": 57,
   "id": "3c25678a",
   "metadata": {},
   "outputs": [
    {
     "name": "stdout",
     "output_type": "stream",
     "text": [
      "[('Bronx', 2128.299999999999), ('Manhattan', 79693.12000000275), ('Queens', 19690.769999999902), (None, 813.4000000000001), ('Brooklyn', 6526.440000000019)]\n"
     ]
    }
   ],
   "source": [
    "filterquery2 = \"\"\"\n",
    "    SELECT pickup_borough, SUM(total) AS pickup_borough_sum_total\n",
    "    FROM taxis_table\n",
    "    WHERE total > 10\n",
    "    GROUP BY pickup_borough;\n",
    "\"\"\"\n",
    "q27 =  con.execute(filterquery2).fetchall()\n",
    "print(q27)"
   ]
  },
  {
   "cell_type": "markdown",
   "id": "902c0a06",
   "metadata": {},
   "source": [
    "The code uses an SQL query in DuckDB to aggregate total values from the taxis_table, excluding records with a total value greater than 10, and computes the sum for each distinct pickup_borough, analyzing revenue or ride counts."
   ]
  },
  {
   "cell_type": "markdown",
   "id": "8dae4a79",
   "metadata": {},
   "source": [
    "### Q28\n",
    "The HAVING clause filters groups based on the aggregated value, excluding pickup_borough groups where the sum exceeds 1000. It is used after the GROUP BY operation, ensuring only those groups with a total of 1000 are included in the result. The WHERE clause filters rows based on individual values of total, excluding rows with a total of 10 from the aggregation. The purpose of filtering is to group by pickup_borough and calculate the sum of total for each group.\n",
    "\n",
    "WHERE filters individual rows before any aggregation, directly operating on the data, while HAVING filters the result of aggregation after the GROUP BY operation, operating on the aggregated data. For example, if the data is A, B, and C, Query 2 (WHERE total > 10) will group by pickup_borough and summing the total for each group, while Query 1 (HAVING SUM(total) > 1000) will group the data by pickup_borough and filter those groups with a sum greater than 1000."
   ]
  },
  {
   "cell_type": "markdown",
   "id": "0efa37fd",
   "metadata": {},
   "source": [
    "# Q29 In a single query get, sum total, average total, min total, sum distance, max distance for each combination of pickup_borough and color. Hint: you'll need to group by 2 fields here."
   ]
  },
  {
   "cell_type": "code",
   "execution_count": 58,
   "id": "cefcc51b",
   "metadata": {},
   "outputs": [
    {
     "name": "stdout",
     "output_type": "stream",
     "text": [
      "[('Manhattan', 'green', 3931.7600000000143, 13.373333333333383, 3.8, 681.8299999999994, 13.8), ('Manhattan', 'yellow', 83888.47000000352, 16.865394049055794, 3.3, 11696.509999999997, 28.3), ('Bronx', 'yellow', 419.7200000000001, 26.232500000000005, 4.3, 107.93, 14.74), ('Brooklyn', 'green', 5820.250000000023, 18.595047923322756, 3.3, 1228.4900000000005, 25.51), ('Brooklyn', 'yellow', 1547.229999999999, 22.1032857142857, 3.8, 325.98000000000013, 18.7), ('Bronx', 'green', 1834.0399999999988, 22.096867469879506, 3.3, 458.93000000000006, 23.61), (None, 'yellow', 854.5099999999999, 38.84136363636363, 3.3, 52.64000000000001, 17.82), ('Queens', 'green', 4572.560000000018, 15.876944444444506, 3.3, 976.7, 33.46), ('Queens', 'yellow', 16228.129999999957, 43.97867208672075, 1.3, 3928.3499999999985, 36.7), (None, 'green', 28.3, 7.075, 3.3, 0.0, 0.0)]\n"
     ]
    }
   ],
   "source": [
    "\n",
    "qry = \"\"\"SELECT \n",
    "    pickup_borough, \n",
    "    color,\n",
    "    SUM(total) AS sum_total,\n",
    "    AVG(total) AS avg_total,\n",
    "    MIN(total) AS min_total,\n",
    "    SUM(distance) AS sum_distance,\n",
    "    MAX(distance) AS max_distance\n",
    "FROM \n",
    "    taxis_table\n",
    "GROUP BY \n",
    "    pickup_borough, color;\n",
    "\"\"\"\n",
    "\n",
    "q29 = con.execute(qry).fetchall()\n",
    "print(q29)\n"
   ]
  },
  {
   "cell_type": "markdown",
   "id": "17dc4c3f",
   "metadata": {},
   "source": [
    "The SQL query analyzes taxi data by pickup borough and color, calculating aggregate functions for each combination, providing detailed analysis of fares, average fares, and distances."
   ]
  }
 ],
 "metadata": {
  "kernelspec": {
   "display_name": "Python 3 (ipykernel)",
   "language": "python",
   "name": "python3"
  },
  "language_info": {
   "codemirror_mode": {
    "name": "ipython",
    "version": 3
   },
   "file_extension": ".py",
   "mimetype": "text/x-python",
   "name": "python",
   "nbconvert_exporter": "python",
   "pygments_lexer": "ipython3",
   "version": "3.11.5"
  }
 },
 "nbformat": 4,
 "nbformat_minor": 5
}
